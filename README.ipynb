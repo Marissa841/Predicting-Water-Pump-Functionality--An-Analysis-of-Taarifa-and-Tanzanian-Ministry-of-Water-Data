{
 "cells": [
  {
   "cell_type": "markdown",
   "id": "0c383180",
   "metadata": {},
   "source": [
    "Overview: \n",
    "\n",
    "This project analyzes data from Taarifa and the Tanzanian Ministry of Water to find which water pumps are in need of repair. This is an imbalance class problem, with three possible classes, “functional”, “non functional”, and “functional in need of repair”. The goal was accuracy, and with the OSEMN method and iterative modeling, I was able to obtain an accuracy score of 0.7525 with the help of a Random Forest Classifier. \n",
    "\n",
    "\n",
    "\n",
    "\n",
    "\n",
    "Business Case: \n",
    "\n",
    "Find the best model fit to accurately predict which water pumps are functional, non functional, or functional in need of repair. \n",
    "\n",
    "Data:\n",
    "\n",
    "The data used in this project is from Taarifa and the Tanzanian Ministry of Water. I was able to obtain this data and the problem from DrivenData as it is part of an ongoing project, Pump it Up: Data Mining the Water Table. The dataset contains 41 columns with 59,400 rows. \n",
    "\n",
    "\n",
    "Methods:\n",
    "\n",
    "The methods used for the project were based on the OSEMN method as well as forward selection and iterative modeling. For the modeling portion, I used LogisticRegression, DecisionTreeClassifier, and RandomForestClassifer taken from the Sci-kit Learn library.\n",
    "\n",
    "Findings:\n",
    "\n",
    "\n",
    "\n",
    "Repository structure:\n",
    "Data - csvs\n",
    "Images\n",
    "README.MD\n",
    "phase_3_presentation\n",
    "ot.ipynb\n",
    "helper.py\n"
   ]
  }
 ],
 "metadata": {
  "kernelspec": {
   "display_name": "Python 3 (ipykernel)",
   "language": "python",
   "name": "python3"
  },
  "language_info": {
   "codemirror_mode": {
    "name": "ipython",
    "version": 3
   },
   "file_extension": ".py",
   "mimetype": "text/x-python",
   "name": "python",
   "nbconvert_exporter": "python",
   "pygments_lexer": "ipython3",
   "version": "3.9.12"
  }
 },
 "nbformat": 4,
 "nbformat_minor": 5
}
