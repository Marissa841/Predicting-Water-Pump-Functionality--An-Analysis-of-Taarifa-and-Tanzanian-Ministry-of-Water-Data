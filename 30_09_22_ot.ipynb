{
 "cells": [
  {
   "cell_type": "markdown",
   "id": "84619c5d",
   "metadata": {},
   "source": [
    "# Business Problem"
   ]
  },
  {
   "cell_type": "markdown",
   "id": "ab078b1c",
   "metadata": {},
   "source": [
    "Description of the problem from the following website: https://www.drivendata.org/competitions/7/pump-it-up-data-mining-the-water-table/ \n",
    "\n",
    "Can you predict which water pumps are faulty?\n",
    "\n",
    "Using data from Taarifa and the Tanzanian Ministry of Water, can you predict which pumps are functional, which need some repairs, and which don't work at all? This is an intermediate-level practice competition. Predict one of these three classes based on a number of variables about what kind of pump is operating, when it was installed, and how it is managed. A smart understanding of which waterpoints will fail can improve maintenance operations and ensure that clean, potable water is available to communities across Tanzania."
   ]
  },
  {
   "cell_type": "markdown",
   "id": "84509533",
   "metadata": {},
   "source": [
    "For the following notebook, I used data science methods to create a model that would be able to predict which water pumps could be accurately classified as \"functional\", \"not functional\", or \"in need of repair\". I used the OSEMN method to the best of my ability and chose the model with the highest accuracy score. "
   ]
  },
  {
   "cell_type": "markdown",
   "id": "026e2478",
   "metadata": {},
   "source": [
    "# Imports"
   ]
  },
  {
   "cell_type": "code",
   "execution_count": 1,
   "id": "aeb51e06",
   "metadata": {},
   "outputs": [],
   "source": [
    "import pandas as pd\n",
    "import seaborn as sns\n",
    "import matplotlib.pyplot as plt\n",
    "%matplotlib inline\n",
    "import numpy as np\n",
    "\n",
    "from sklearn.tree import DecisionTreeClassifier\n",
    "from sklearn.linear_model import LogisticRegression\n",
    "from sklearn.ensemble import RandomForestClassifier\n",
    "from sklearn.model_selection import train_test_split\n",
    "from sklearn.preprocessing import OneHotEncoder\n",
    "\n",
    "from helper import explore_column, model_helper\n"
   ]
  },
  {
   "cell_type": "code",
   "execution_count": 2,
   "id": "9c431563",
   "metadata": {},
   "outputs": [],
   "source": [
    "# explore_column(df, \"status_group\")"
   ]
  },
  {
   "cell_type": "markdown",
   "id": "f63a4a57",
   "metadata": {},
   "source": [
    "# Obtain"
   ]
  },
  {
   "cell_type": "code",
   "execution_count": 3,
   "id": "b72187d9",
   "metadata": {},
   "outputs": [
    {
     "data": {
      "text/html": [
       "<div>\n",
       "<style scoped>\n",
       "    .dataframe tbody tr th:only-of-type {\n",
       "        vertical-align: middle;\n",
       "    }\n",
       "\n",
       "    .dataframe tbody tr th {\n",
       "        vertical-align: top;\n",
       "    }\n",
       "\n",
       "    .dataframe thead th {\n",
       "        text-align: right;\n",
       "    }\n",
       "</style>\n",
       "<table border=\"1\" class=\"dataframe\">\n",
       "  <thead>\n",
       "    <tr style=\"text-align: right;\">\n",
       "      <th></th>\n",
       "      <th>id</th>\n",
       "      <th>status_group</th>\n",
       "      <th>amount_tsh</th>\n",
       "      <th>date_recorded</th>\n",
       "      <th>funder</th>\n",
       "      <th>gps_height</th>\n",
       "      <th>installer</th>\n",
       "      <th>longitude</th>\n",
       "      <th>latitude</th>\n",
       "      <th>wpt_name</th>\n",
       "      <th>...</th>\n",
       "      <th>payment_type</th>\n",
       "      <th>water_quality</th>\n",
       "      <th>quality_group</th>\n",
       "      <th>quantity</th>\n",
       "      <th>quantity_group</th>\n",
       "      <th>source</th>\n",
       "      <th>source_type</th>\n",
       "      <th>source_class</th>\n",
       "      <th>waterpoint_type</th>\n",
       "      <th>waterpoint_type_group</th>\n",
       "    </tr>\n",
       "  </thead>\n",
       "  <tbody>\n",
       "    <tr>\n",
       "      <th>0</th>\n",
       "      <td>69572</td>\n",
       "      <td>functional</td>\n",
       "      <td>6000.0</td>\n",
       "      <td>3/14/2011</td>\n",
       "      <td>Roman</td>\n",
       "      <td>1390</td>\n",
       "      <td>Roman</td>\n",
       "      <td>34.938093</td>\n",
       "      <td>-9.856322</td>\n",
       "      <td>none</td>\n",
       "      <td>...</td>\n",
       "      <td>annually</td>\n",
       "      <td>soft</td>\n",
       "      <td>good</td>\n",
       "      <td>enough</td>\n",
       "      <td>enough</td>\n",
       "      <td>spring</td>\n",
       "      <td>spring</td>\n",
       "      <td>groundwater</td>\n",
       "      <td>communal standpipe</td>\n",
       "      <td>communal standpipe</td>\n",
       "    </tr>\n",
       "    <tr>\n",
       "      <th>1</th>\n",
       "      <td>8776</td>\n",
       "      <td>functional</td>\n",
       "      <td>0.0</td>\n",
       "      <td>3/6/2013</td>\n",
       "      <td>Grumeti</td>\n",
       "      <td>1399</td>\n",
       "      <td>GRUMETI</td>\n",
       "      <td>34.698766</td>\n",
       "      <td>-2.147466</td>\n",
       "      <td>Zahanati</td>\n",
       "      <td>...</td>\n",
       "      <td>never pay</td>\n",
       "      <td>soft</td>\n",
       "      <td>good</td>\n",
       "      <td>insufficient</td>\n",
       "      <td>insufficient</td>\n",
       "      <td>rainwater harvesting</td>\n",
       "      <td>rainwater harvesting</td>\n",
       "      <td>surface</td>\n",
       "      <td>communal standpipe</td>\n",
       "      <td>communal standpipe</td>\n",
       "    </tr>\n",
       "    <tr>\n",
       "      <th>2</th>\n",
       "      <td>34310</td>\n",
       "      <td>functional</td>\n",
       "      <td>25.0</td>\n",
       "      <td>2/25/2013</td>\n",
       "      <td>Lottery Club</td>\n",
       "      <td>686</td>\n",
       "      <td>World vision</td>\n",
       "      <td>37.460664</td>\n",
       "      <td>-3.821329</td>\n",
       "      <td>Kwa Mahundi</td>\n",
       "      <td>...</td>\n",
       "      <td>per bucket</td>\n",
       "      <td>soft</td>\n",
       "      <td>good</td>\n",
       "      <td>enough</td>\n",
       "      <td>enough</td>\n",
       "      <td>dam</td>\n",
       "      <td>dam</td>\n",
       "      <td>surface</td>\n",
       "      <td>communal standpipe multiple</td>\n",
       "      <td>communal standpipe</td>\n",
       "    </tr>\n",
       "    <tr>\n",
       "      <th>3</th>\n",
       "      <td>67743</td>\n",
       "      <td>non functional</td>\n",
       "      <td>0.0</td>\n",
       "      <td>1/28/2013</td>\n",
       "      <td>Unicef</td>\n",
       "      <td>263</td>\n",
       "      <td>UNICEF</td>\n",
       "      <td>38.486161</td>\n",
       "      <td>-11.155298</td>\n",
       "      <td>Zahanati Ya Nanyumbu</td>\n",
       "      <td>...</td>\n",
       "      <td>never pay</td>\n",
       "      <td>soft</td>\n",
       "      <td>good</td>\n",
       "      <td>dry</td>\n",
       "      <td>dry</td>\n",
       "      <td>machine dbh</td>\n",
       "      <td>borehole</td>\n",
       "      <td>groundwater</td>\n",
       "      <td>communal standpipe multiple</td>\n",
       "      <td>communal standpipe</td>\n",
       "    </tr>\n",
       "    <tr>\n",
       "      <th>4</th>\n",
       "      <td>19728</td>\n",
       "      <td>functional</td>\n",
       "      <td>0.0</td>\n",
       "      <td>7/13/2011</td>\n",
       "      <td>Action In A</td>\n",
       "      <td>0</td>\n",
       "      <td>Artisan</td>\n",
       "      <td>31.130847</td>\n",
       "      <td>-1.825359</td>\n",
       "      <td>Shuleni</td>\n",
       "      <td>...</td>\n",
       "      <td>never pay</td>\n",
       "      <td>soft</td>\n",
       "      <td>good</td>\n",
       "      <td>seasonal</td>\n",
       "      <td>seasonal</td>\n",
       "      <td>rainwater harvesting</td>\n",
       "      <td>rainwater harvesting</td>\n",
       "      <td>surface</td>\n",
       "      <td>communal standpipe</td>\n",
       "      <td>communal standpipe</td>\n",
       "    </tr>\n",
       "  </tbody>\n",
       "</table>\n",
       "<p>5 rows × 41 columns</p>\n",
       "</div>"
      ],
      "text/plain": [
       "      id    status_group  amount_tsh date_recorded        funder  gps_height  \\\n",
       "0  69572      functional      6000.0     3/14/2011         Roman        1390   \n",
       "1   8776      functional         0.0      3/6/2013       Grumeti        1399   \n",
       "2  34310      functional        25.0     2/25/2013  Lottery Club         686   \n",
       "3  67743  non functional         0.0     1/28/2013        Unicef         263   \n",
       "4  19728      functional         0.0     7/13/2011   Action In A           0   \n",
       "\n",
       "      installer  longitude   latitude              wpt_name  ...  \\\n",
       "0         Roman  34.938093  -9.856322                  none  ...   \n",
       "1       GRUMETI  34.698766  -2.147466              Zahanati  ...   \n",
       "2  World vision  37.460664  -3.821329           Kwa Mahundi  ...   \n",
       "3        UNICEF  38.486161 -11.155298  Zahanati Ya Nanyumbu  ...   \n",
       "4       Artisan  31.130847  -1.825359               Shuleni  ...   \n",
       "\n",
       "   payment_type water_quality quality_group      quantity  quantity_group  \\\n",
       "0      annually          soft          good        enough          enough   \n",
       "1     never pay          soft          good  insufficient    insufficient   \n",
       "2    per bucket          soft          good        enough          enough   \n",
       "3     never pay          soft          good           dry             dry   \n",
       "4     never pay          soft          good      seasonal        seasonal   \n",
       "\n",
       "                 source           source_type source_class  \\\n",
       "0                spring                spring  groundwater   \n",
       "1  rainwater harvesting  rainwater harvesting      surface   \n",
       "2                   dam                   dam      surface   \n",
       "3           machine dbh              borehole  groundwater   \n",
       "4  rainwater harvesting  rainwater harvesting      surface   \n",
       "\n",
       "               waterpoint_type waterpoint_type_group  \n",
       "0           communal standpipe    communal standpipe  \n",
       "1           communal standpipe    communal standpipe  \n",
       "2  communal standpipe multiple    communal standpipe  \n",
       "3  communal standpipe multiple    communal standpipe  \n",
       "4           communal standpipe    communal standpipe  \n",
       "\n",
       "[5 rows x 41 columns]"
      ]
     },
     "execution_count": 3,
     "metadata": {},
     "output_type": "execute_result"
    }
   ],
   "source": [
    "# Obtained two csv files for target variable and features. Merged the dataframes. \n",
    "target_df = pd.read_csv(\"training_set_labels.csv\")\n",
    "features_df = pd.read_csv(\"training_set_values.csv\")\n",
    "df = pd.merge(target_df, features_df, on=\"id\")\n",
    "df.head()"
   ]
  },
  {
   "cell_type": "code",
   "execution_count": 4,
   "id": "6c5a0a31",
   "metadata": {},
   "outputs": [
    {
     "data": {
      "text/html": [
       "<div>\n",
       "<style scoped>\n",
       "    .dataframe tbody tr th:only-of-type {\n",
       "        vertical-align: middle;\n",
       "    }\n",
       "\n",
       "    .dataframe tbody tr th {\n",
       "        vertical-align: top;\n",
       "    }\n",
       "\n",
       "    .dataframe thead th {\n",
       "        text-align: right;\n",
       "    }\n",
       "</style>\n",
       "<table border=\"1\" class=\"dataframe\">\n",
       "  <thead>\n",
       "    <tr style=\"text-align: right;\">\n",
       "      <th></th>\n",
       "      <th>id</th>\n",
       "      <th>amount_tsh</th>\n",
       "      <th>gps_height</th>\n",
       "      <th>longitude</th>\n",
       "      <th>latitude</th>\n",
       "      <th>num_private</th>\n",
       "      <th>region_code</th>\n",
       "      <th>district_code</th>\n",
       "      <th>population</th>\n",
       "      <th>construction_year</th>\n",
       "    </tr>\n",
       "  </thead>\n",
       "  <tbody>\n",
       "    <tr>\n",
       "      <th>count</th>\n",
       "      <td>59400.000000</td>\n",
       "      <td>59400.000000</td>\n",
       "      <td>59400.000000</td>\n",
       "      <td>59400.000000</td>\n",
       "      <td>5.940000e+04</td>\n",
       "      <td>59400.000000</td>\n",
       "      <td>59400.000000</td>\n",
       "      <td>59400.000000</td>\n",
       "      <td>59400.000000</td>\n",
       "      <td>59400.000000</td>\n",
       "    </tr>\n",
       "    <tr>\n",
       "      <th>mean</th>\n",
       "      <td>37115.131768</td>\n",
       "      <td>317.650385</td>\n",
       "      <td>668.297239</td>\n",
       "      <td>34.077427</td>\n",
       "      <td>-5.706033e+00</td>\n",
       "      <td>0.474141</td>\n",
       "      <td>15.297003</td>\n",
       "      <td>5.629747</td>\n",
       "      <td>179.909983</td>\n",
       "      <td>1300.652475</td>\n",
       "    </tr>\n",
       "    <tr>\n",
       "      <th>std</th>\n",
       "      <td>21453.128371</td>\n",
       "      <td>2997.574558</td>\n",
       "      <td>693.116350</td>\n",
       "      <td>6.567432</td>\n",
       "      <td>2.946019e+00</td>\n",
       "      <td>12.236230</td>\n",
       "      <td>17.587406</td>\n",
       "      <td>9.633649</td>\n",
       "      <td>471.482176</td>\n",
       "      <td>951.620547</td>\n",
       "    </tr>\n",
       "    <tr>\n",
       "      <th>min</th>\n",
       "      <td>0.000000</td>\n",
       "      <td>0.000000</td>\n",
       "      <td>-90.000000</td>\n",
       "      <td>0.000000</td>\n",
       "      <td>-1.164944e+01</td>\n",
       "      <td>0.000000</td>\n",
       "      <td>1.000000</td>\n",
       "      <td>0.000000</td>\n",
       "      <td>0.000000</td>\n",
       "      <td>0.000000</td>\n",
       "    </tr>\n",
       "    <tr>\n",
       "      <th>25%</th>\n",
       "      <td>18519.750000</td>\n",
       "      <td>0.000000</td>\n",
       "      <td>0.000000</td>\n",
       "      <td>33.090347</td>\n",
       "      <td>-8.540621e+00</td>\n",
       "      <td>0.000000</td>\n",
       "      <td>5.000000</td>\n",
       "      <td>2.000000</td>\n",
       "      <td>0.000000</td>\n",
       "      <td>0.000000</td>\n",
       "    </tr>\n",
       "    <tr>\n",
       "      <th>50%</th>\n",
       "      <td>37061.500000</td>\n",
       "      <td>0.000000</td>\n",
       "      <td>369.000000</td>\n",
       "      <td>34.908743</td>\n",
       "      <td>-5.021597e+00</td>\n",
       "      <td>0.000000</td>\n",
       "      <td>12.000000</td>\n",
       "      <td>3.000000</td>\n",
       "      <td>25.000000</td>\n",
       "      <td>1986.000000</td>\n",
       "    </tr>\n",
       "    <tr>\n",
       "      <th>75%</th>\n",
       "      <td>55656.500000</td>\n",
       "      <td>20.000000</td>\n",
       "      <td>1319.250000</td>\n",
       "      <td>37.178387</td>\n",
       "      <td>-3.326156e+00</td>\n",
       "      <td>0.000000</td>\n",
       "      <td>17.000000</td>\n",
       "      <td>5.000000</td>\n",
       "      <td>215.000000</td>\n",
       "      <td>2004.000000</td>\n",
       "    </tr>\n",
       "    <tr>\n",
       "      <th>max</th>\n",
       "      <td>74247.000000</td>\n",
       "      <td>350000.000000</td>\n",
       "      <td>2770.000000</td>\n",
       "      <td>40.345193</td>\n",
       "      <td>-2.000000e-08</td>\n",
       "      <td>1776.000000</td>\n",
       "      <td>99.000000</td>\n",
       "      <td>80.000000</td>\n",
       "      <td>30500.000000</td>\n",
       "      <td>2013.000000</td>\n",
       "    </tr>\n",
       "  </tbody>\n",
       "</table>\n",
       "</div>"
      ],
      "text/plain": [
       "                 id     amount_tsh    gps_height     longitude      latitude  \\\n",
       "count  59400.000000   59400.000000  59400.000000  59400.000000  5.940000e+04   \n",
       "mean   37115.131768     317.650385    668.297239     34.077427 -5.706033e+00   \n",
       "std    21453.128371    2997.574558    693.116350      6.567432  2.946019e+00   \n",
       "min        0.000000       0.000000    -90.000000      0.000000 -1.164944e+01   \n",
       "25%    18519.750000       0.000000      0.000000     33.090347 -8.540621e+00   \n",
       "50%    37061.500000       0.000000    369.000000     34.908743 -5.021597e+00   \n",
       "75%    55656.500000      20.000000   1319.250000     37.178387 -3.326156e+00   \n",
       "max    74247.000000  350000.000000   2770.000000     40.345193 -2.000000e-08   \n",
       "\n",
       "        num_private   region_code  district_code    population  \\\n",
       "count  59400.000000  59400.000000   59400.000000  59400.000000   \n",
       "mean       0.474141     15.297003       5.629747    179.909983   \n",
       "std       12.236230     17.587406       9.633649    471.482176   \n",
       "min        0.000000      1.000000       0.000000      0.000000   \n",
       "25%        0.000000      5.000000       2.000000      0.000000   \n",
       "50%        0.000000     12.000000       3.000000     25.000000   \n",
       "75%        0.000000     17.000000       5.000000    215.000000   \n",
       "max     1776.000000     99.000000      80.000000  30500.000000   \n",
       "\n",
       "       construction_year  \n",
       "count       59400.000000  \n",
       "mean         1300.652475  \n",
       "std           951.620547  \n",
       "min             0.000000  \n",
       "25%             0.000000  \n",
       "50%          1986.000000  \n",
       "75%          2004.000000  \n",
       "max          2013.000000  "
      ]
     },
     "execution_count": 4,
     "metadata": {},
     "output_type": "execute_result"
    }
   ],
   "source": [
    "# View dataframe statistics\n",
    "# There are only 9 numerical columns. In light of this information, will make a vanilla model with only numerical \n",
    "# columns then add in categorical columns to see if that improves the results\n",
    "df.describe()"
   ]
  },
  {
   "cell_type": "code",
   "execution_count": 5,
   "id": "2ede90d0",
   "metadata": {},
   "outputs": [
    {
     "name": "stdout",
     "output_type": "stream",
     "text": [
      "<class 'pandas.core.frame.DataFrame'>\n",
      "Int64Index: 59400 entries, 0 to 59399\n",
      "Data columns (total 41 columns):\n",
      " #   Column                 Non-Null Count  Dtype  \n",
      "---  ------                 --------------  -----  \n",
      " 0   id                     59400 non-null  int64  \n",
      " 1   status_group           59400 non-null  object \n",
      " 2   amount_tsh             59400 non-null  float64\n",
      " 3   date_recorded          59400 non-null  object \n",
      " 4   funder                 55765 non-null  object \n",
      " 5   gps_height             59400 non-null  int64  \n",
      " 6   installer              55745 non-null  object \n",
      " 7   longitude              59400 non-null  float64\n",
      " 8   latitude               59400 non-null  float64\n",
      " 9   wpt_name               59400 non-null  object \n",
      " 10  num_private            59400 non-null  int64  \n",
      " 11  basin                  59400 non-null  object \n",
      " 12  subvillage             59029 non-null  object \n",
      " 13  region                 59400 non-null  object \n",
      " 14  region_code            59400 non-null  int64  \n",
      " 15  district_code          59400 non-null  int64  \n",
      " 16  lga                    59400 non-null  object \n",
      " 17  ward                   59400 non-null  object \n",
      " 18  population             59400 non-null  int64  \n",
      " 19  public_meeting         56066 non-null  object \n",
      " 20  recorded_by            59400 non-null  object \n",
      " 21  scheme_management      55523 non-null  object \n",
      " 22  scheme_name            31234 non-null  object \n",
      " 23  permit                 56344 non-null  object \n",
      " 24  construction_year      59400 non-null  int64  \n",
      " 25  extraction_type        59400 non-null  object \n",
      " 26  extraction_type_group  59400 non-null  object \n",
      " 27  extraction_type_class  59400 non-null  object \n",
      " 28  management             59400 non-null  object \n",
      " 29  management_group       59400 non-null  object \n",
      " 30  payment                59400 non-null  object \n",
      " 31  payment_type           59400 non-null  object \n",
      " 32  water_quality          59400 non-null  object \n",
      " 33  quality_group          59400 non-null  object \n",
      " 34  quantity               59400 non-null  object \n",
      " 35  quantity_group         59400 non-null  object \n",
      " 36  source                 59400 non-null  object \n",
      " 37  source_type            59400 non-null  object \n",
      " 38  source_class           59400 non-null  object \n",
      " 39  waterpoint_type        59400 non-null  object \n",
      " 40  waterpoint_type_group  59400 non-null  object \n",
      "dtypes: float64(3), int64(7), object(31)\n",
      "memory usage: 19.0+ MB\n"
     ]
    }
   ],
   "source": [
    "# 40 variables that appear to be mostly string datatypes. A lot of the columns look like they could have similar information, \n",
    "# such as the three columns, \"extraction_type\", \"extraction_type_group\", and \"extraction_type_class\". They all have the same\n",
    "# description as well, \"The kind of extraction the waterpoint uses\". Will look at getting rid of columns that are non needed \n",
    "# or are redundant. \n",
    "df.info()"
   ]
  },
  {
   "cell_type": "code",
   "execution_count": 6,
   "id": "55432a17",
   "metadata": {},
   "outputs": [],
   "source": [
    "# Using a bar chart to view the distribution of the target variable, \"status_group\". With there being three potential outcomes,\n",
    "# this graph show that this is a multiclass classification problem that is imbalanced"
   ]
  },
  {
   "cell_type": "code",
   "execution_count": 14,
   "id": "fcc5b546",
   "metadata": {},
   "outputs": [
    {
     "data": {
      "image/png": "[encoded data removed]",
      "text/plain": [
       "<Figure size 432x288 with 1 Axes>"
      ]
     },
     "metadata": {
      "needs_background": "light"
     },
     "output_type": "display_data"
    }
   ],
   "source": [
    "# View distribution of the \"status_group\" values\n",
    "df['status_group'].value_counts().plot(kind='bar', color = \"pink\")\n",
    "      \n",
    "# giving title to the plot\n",
    "plt.title(\"Distribution of 'status_group'\")\n",
    "      \n",
    "# giving X and Y labels\n",
    "plt.xlabel(\"Status Groups\")\n",
    "plt.xticks(rotation = 0)\n",
    "plt.ylabel(\"Number of Water Pumps\")\n",
    "\n",
    "plt.show()"
   ]
  },
  {
   "cell_type": "code",
   "execution_count": null,
   "id": "1788418e",
   "metadata": {},
   "outputs": [],
   "source": [
    "# The percentage of \"functional needs repair\" is very low compared to the other two options. Since\n",
    "# there are so few, I'm going to drop those values from the status_group column in order to solve the class\n",
    "# imbalance problem\n",
    "df['status_group'].value_counts(normalize=True)"
   ]
  },
  {
   "cell_type": "code",
   "execution_count": null,
   "id": "8f6c6d03",
   "metadata": {},
   "outputs": [],
   "source": [
    "# Dropping \"functional needs repair\"\n",
    "df = df[df.status_group != \"functional needs repair\"]"
   ]
  },
  {
   "cell_type": "code",
   "execution_count": null,
   "id": "e5a4beaa",
   "metadata": {},
   "outputs": [],
   "source": [
    "# Confirming the drop\n",
    "df['status_group'].value_counts(normalize=True)"
   ]
  },
  {
   "cell_type": "markdown",
   "id": "249b5341",
   "metadata": {},
   "source": [
    "# Scrub/Explore"
   ]
  },
  {
   "cell_type": "code",
   "execution_count": null,
   "id": "1dac7f21",
   "metadata": {},
   "outputs": [],
   "source": [
    "# For the first vanilla model, I'll use the numerical columns from the dataset.\n",
    "# I'll approach this problem by using a forward selection method, but for that, I'll first use the \n",
    "# numerical columns and add features from there. "
   ]
  },
  {
   "cell_type": "code",
   "execution_count": null,
   "id": "9a46628e",
   "metadata": {},
   "outputs": [],
   "source": [
    "# Numerical columns\n",
    "numerical_columns = df.select_dtypes(\"number\")\n",
    "numerical_columns.head(2)"
   ]
  },
  {
   "cell_type": "code",
   "execution_count": null,
   "id": "accfaa2f",
   "metadata": {},
   "outputs": [],
   "source": [
    "# Next step after trying the vanilla decision tree model and the random forest model, \n",
    "# use the models to decide on feature importance for the next categorical feature.\n",
    "# Based off the two models, the features that were most important were geographical, so\n",
    "# my next categorical feature will be on that is geographical. In the dataset, there are a few\n",
    "# that fit that description, \"basin\", \"subvillage\", \"region\", \"lga\", \"ward\". I'll take a look at\n",
    "# the content of each column to make my decision for the next feature"
   ]
  },
  {
   "cell_type": "code",
   "execution_count": null,
   "id": "3f02fdbc",
   "metadata": {},
   "outputs": [],
   "source": [
    "# Explore the \"basin\", \"subvillage\", \"region\", \"region\", \"lga\" columns"
   ]
  },
  {
   "cell_type": "code",
   "execution_count": null,
   "id": "f55b741d",
   "metadata": {},
   "outputs": [],
   "source": [
    "explore_column(df, \"basin\")"
   ]
  },
  {
   "cell_type": "code",
   "execution_count": null,
   "id": "77f25f85",
   "metadata": {},
   "outputs": [],
   "source": [
    "explore_column(df, \"subvillage\")"
   ]
  },
  {
   "cell_type": "code",
   "execution_count": null,
   "id": "34da9414",
   "metadata": {},
   "outputs": [],
   "source": [
    "explore_column(df, \"region\")"
   ]
  },
  {
   "cell_type": "code",
   "execution_count": null,
   "id": "28c0464f",
   "metadata": {},
   "outputs": [],
   "source": [
    "explore_column(df, \"lga\")"
   ]
  },
  {
   "cell_type": "code",
   "execution_count": null,
   "id": "5bb81ee9",
   "metadata": {},
   "outputs": [],
   "source": [
    "explore_column(df, \"ward\")"
   ]
  },
  {
   "cell_type": "markdown",
   "id": "77a55d6f",
   "metadata": {},
   "source": [
    "### Adding \"basin\" column"
   ]
  },
  {
   "cell_type": "code",
   "execution_count": null,
   "id": "d3fb9d23",
   "metadata": {},
   "outputs": [],
   "source": [
    "# Based of the number of unique values per column, my second categorical choice for a column\n",
    "# will be \"basin\"."
   ]
  },
  {
   "cell_type": "code",
   "execution_count": null,
   "id": "a8812548",
   "metadata": {},
   "outputs": [],
   "source": [
    "# Graph to show distribution of \"basin\" values\n",
    "df['basin'].value_counts().plot(kind='bar')\n",
    "\n",
    "# giving title to the plot\n",
    "plt.title(\"Distribution of 'basin'\")\n",
    "      \n",
    "# giving X and Y labels\n",
    "plt.xlabel(\"Basins\")\n",
    "plt.ylabel(\"Amount\")\n",
    "\n",
    "plt.show()"
   ]
  },
  {
   "cell_type": "code",
   "execution_count": null,
   "id": "0c56bb9f",
   "metadata": {},
   "outputs": [],
   "source": [
    "# Check for missing values\n",
    "df[\"basin\"].isnull().sum()"
   ]
  },
  {
   "cell_type": "code",
   "execution_count": null,
   "id": "7d699085",
   "metadata": {},
   "outputs": [],
   "source": [
    "# Add \"basin\" column\n",
    "df_basin = pd.concat([numerical_columns, df['basin']], axis=1)\n",
    "df_basin.head(2)"
   ]
  },
  {
   "cell_type": "code",
   "execution_count": null,
   "id": "87986fe8",
   "metadata": {},
   "outputs": [],
   "source": [
    "# Dummy code \"basin\"\n",
    "df_dummy_basin = pd.get_dummies(df_basin, drop_first=True)\n",
    "print('Shape before dummy coding: ', df_basin.shape)\n",
    "print('Shape after dummy coding: ', df_dummy_basin.shape)"
   ]
  },
  {
   "cell_type": "code",
   "execution_count": null,
   "id": "76a2fa12",
   "metadata": {},
   "outputs": [],
   "source": [
    "# Check dataframe\n",
    "df_dummy_basin.head(2)"
   ]
  },
  {
   "cell_type": "code",
   "execution_count": null,
   "id": "a568290a",
   "metadata": {},
   "outputs": [],
   "source": [
    "# Based of the second iteration of models, it looks like there was slight improvement with the addition of the dummy \"basin\"\n",
    "# column. Next step would be to add another geographical categorical column, and from further exploration, \"region\"\n",
    "# is the next best choice."
   ]
  },
  {
   "cell_type": "markdown",
   "id": "4cbd645a",
   "metadata": {},
   "source": [
    "### Adding \"region\" column"
   ]
  },
  {
   "cell_type": "code",
   "execution_count": null,
   "id": "c3d0fac0",
   "metadata": {},
   "outputs": [],
   "source": [
    "# Graph to show distribution of \"region\" values \n",
    "df['region'].value_counts().plot(kind='bar')\n",
    "\n",
    "# giving title to the plot\n",
    "plt.title(\"Distribution of 'region'\")\n",
    "      \n",
    "# giving X and Y labels\n",
    "plt.xlabel(\"Regions\")\n",
    "plt.ylabel(\"Number of waterpumps per region\")\n",
    "\n",
    "plt.show()"
   ]
  },
  {
   "cell_type": "code",
   "execution_count": null,
   "id": "eccd1f14",
   "metadata": {},
   "outputs": [],
   "source": [
    "# Add \"region\" column\n",
    "df_region = pd.concat([df_dummy_basin, df['region']], axis=1)\n",
    "df_region.head(2)"
   ]
  },
  {
   "cell_type": "code",
   "execution_count": null,
   "id": "92e931e8",
   "metadata": {},
   "outputs": [],
   "source": [
    "# Dummy code \"region\"\n",
    "df_dummy_region = pd.get_dummies(df_region, drop_first=True)\n",
    "\n",
    "print('Shape before dummy coding: ', df_dummy_basin.shape)\n",
    "\n",
    "print('Shape after dummy coding: ', df_dummy_region.shape)"
   ]
  },
  {
   "cell_type": "code",
   "execution_count": null,
   "id": "24db870c",
   "metadata": {},
   "outputs": [],
   "source": [
    "# Check dataframe\n",
    "df_dummy_region.head(2)"
   ]
  },
  {
   "cell_type": "markdown",
   "id": "80975bb5",
   "metadata": {},
   "source": [
    "#### Fourth iteration of models"
   ]
  },
  {
   "cell_type": "code",
   "execution_count": null,
   "id": "0a22ca15",
   "metadata": {},
   "outputs": [],
   "source": [
    "# View original dataframe columns\n",
    "df.info()"
   ]
  },
  {
   "cell_type": "code",
   "execution_count": null,
   "id": "4d2b9b55",
   "metadata": {},
   "outputs": [],
   "source": [
    "explore_column(df, \"water_quality\")"
   ]
  },
  {
   "cell_type": "code",
   "execution_count": null,
   "id": "64e7b403",
   "metadata": {},
   "outputs": [],
   "source": [
    "explore_column(df, \"quality_group\")"
   ]
  },
  {
   "cell_type": "markdown",
   "id": "e33c46c1",
   "metadata": {},
   "source": [
    "### Adding \"quality_group\" column "
   ]
  },
  {
   "cell_type": "code",
   "execution_count": null,
   "id": "c1ce2a4b",
   "metadata": {},
   "outputs": [],
   "source": [
    "# Next step will be to add another categorical variable. I'll be adding \"quality_group\" to the dataframe."
   ]
  },
  {
   "cell_type": "code",
   "execution_count": null,
   "id": "1589797c",
   "metadata": {},
   "outputs": [],
   "source": [
    "# Graph to show distribution of \"basin\" values \n",
    "df['quality_group'].value_counts().plot(kind='bar')\n",
    "\n",
    "# giving title to the plot\n",
    "plt.title(\"Distribution of 'quality_group'\")\n",
    "      \n",
    "# giving X and Y labels\n",
    "plt.xlabel(\"Quality Groups\")\n",
    "plt.ylabel(\"Amount per group\")\n",
    "\n",
    "plt.show()"
   ]
  },
  {
   "cell_type": "code",
   "execution_count": null,
   "id": "c378b0b1",
   "metadata": {},
   "outputs": [],
   "source": [
    "# Add \"quality_group\" column\n",
    "df_quality_group = pd.concat([df_dummy_region, df[\"quality_group\"]], axis=1)\n",
    "df_quality_group.head(2)"
   ]
  },
  {
   "cell_type": "code",
   "execution_count": null,
   "id": "3cfc4e86",
   "metadata": {},
   "outputs": [],
   "source": [
    "# Dummy code \"quality_group\"\n",
    "df_dummy_quality_group = pd.get_dummies(df_quality_group, drop_first=True)\n",
    "\n",
    "print('Shape before dummy coding: ', df_dummy_region.shape)\n",
    "print('Shape after dummy coding: ', df_dummy_quality_group.shape)"
   ]
  },
  {
   "cell_type": "code",
   "execution_count": null,
   "id": "4ea876d1",
   "metadata": {},
   "outputs": [],
   "source": [
    "df_dummy_quality_group.head(2)"
   ]
  },
  {
   "cell_type": "code",
   "execution_count": null,
   "id": "72900700",
   "metadata": {},
   "outputs": [],
   "source": [
    "# For the fifth iteration of the models, I'd like to try a column that focuses on the \"extraction_type\""
   ]
  },
  {
   "cell_type": "code",
   "execution_count": null,
   "id": "6e8e5ff3",
   "metadata": {},
   "outputs": [],
   "source": [
    "explore_column(df, \"extraction_type\")"
   ]
  },
  {
   "cell_type": "code",
   "execution_count": null,
   "id": "cd460d13",
   "metadata": {},
   "outputs": [],
   "source": [
    "explore_column(df, \"extraction_type_group\")"
   ]
  },
  {
   "cell_type": "code",
   "execution_count": null,
   "id": "0ba4bf90",
   "metadata": {},
   "outputs": [],
   "source": [
    "explore_column(df, \"extraction_type_class\")"
   ]
  },
  {
   "cell_type": "markdown",
   "id": "3e1ede69",
   "metadata": {},
   "source": [
    "### Adding \"extraction_type_class\" column"
   ]
  },
  {
   "cell_type": "code",
   "execution_count": null,
   "id": "b37debeb",
   "metadata": {},
   "outputs": [],
   "source": [
    "# After a look at the three similar variables, I'll use the \"extraction_type_class\" as my next categorical column"
   ]
  },
  {
   "cell_type": "code",
   "execution_count": null,
   "id": "b972926b",
   "metadata": {},
   "outputs": [],
   "source": [
    "# Graph to show distribution of \"basin\" values \n",
    "df['extraction_type_class'].value_counts().plot(kind='bar')\n",
    "\n",
    "# giving title to the plot\n",
    "plt.title(\"Distribution of 'extraction_type_class'\")\n",
    "      \n",
    "# giving X and Y labels\n",
    "plt.xlabel(\"Extraction types\")\n",
    "plt.ylabel(\"Amount\")\n",
    "\n",
    "plt.show()"
   ]
  },
  {
   "cell_type": "code",
   "execution_count": null,
   "id": "916f3503",
   "metadata": {},
   "outputs": [],
   "source": [
    "# Add \"extraction_type_class\" column\n",
    "df_extraction_type_class = pd.concat([df_dummy_quality_group, df[\"extraction_type_class\"]], axis=1)\n",
    "df_extraction_type_class"
   ]
  },
  {
   "cell_type": "code",
   "execution_count": null,
   "id": "fbbc701a",
   "metadata": {},
   "outputs": [],
   "source": [
    "# Dummy code \"extraction_type_class\"\n",
    "df_dummy_extraction_type_class = pd.get_dummies(df_extraction_type_class, drop_first=True)\n",
    "\n",
    "print('Shape before dummy coding: ', df_dummy_quality_group.shape)\n",
    "print('Shape after dummy coding: ', df_dummy_extraction_type_class.shape)"
   ]
  },
  {
   "cell_type": "code",
   "execution_count": null,
   "id": "74fdacd9",
   "metadata": {},
   "outputs": [],
   "source": [
    "# Check new dataframe looks as is expected\n",
    "df_dummy_extraction_type_class.head(2)"
   ]
  },
  {
   "cell_type": "markdown",
   "id": "942d4248",
   "metadata": {},
   "source": [
    "### Feature engineering the numerical columns \"construction_year\" and \"gps_height\""
   ]
  },
  {
   "cell_type": "code",
   "execution_count": null,
   "id": "fb6c7553",
   "metadata": {},
   "outputs": [],
   "source": [
    "# Feature Engineering\n",
    "# For the construction_year and gps_height I used the median of them to replace the 0 values."
   ]
  },
  {
   "cell_type": "markdown",
   "id": "a70a630b",
   "metadata": {},
   "source": [
    "### \"construction_year\""
   ]
  },
  {
   "cell_type": "code",
   "execution_count": null,
   "id": "934f14d8",
   "metadata": {},
   "outputs": [],
   "source": [
    "# View the distribution of the column\n",
    "sns.histplot(numerical_columns['construction_year'], kde=True, stat=\"density\", linewidth=0)\n",
    "\n",
    "# giving title to the plot\n",
    "plt.title(\"Distribution of 'construction year'\")\n",
    "\n",
    "plt.show()"
   ]
  },
  {
   "cell_type": "code",
   "execution_count": null,
   "id": "72946f62",
   "metadata": {},
   "outputs": [],
   "source": [
    "explore_column(df, \"construction_year\")"
   ]
  },
  {
   "cell_type": "code",
   "execution_count": null,
   "id": "3fd15f95",
   "metadata": {},
   "outputs": [],
   "source": [
    "# This column has a lot of zeros. I'll replace the zero values with the column median\n",
    "construction_year_median = numerical_columns['construction_year']\n",
    "construction_year_median.replace(to_replace = 0, value = construction_year_median.median(), inplace=True)"
   ]
  },
  {
   "cell_type": "markdown",
   "id": "40965196",
   "metadata": {},
   "source": [
    "### \"gps_height\""
   ]
  },
  {
   "cell_type": "code",
   "execution_count": null,
   "id": "821df73d",
   "metadata": {},
   "outputs": [],
   "source": [
    "explore_column(df, \"gps_height\")"
   ]
  },
  {
   "cell_type": "code",
   "execution_count": null,
   "id": "6b788ea3",
   "metadata": {},
   "outputs": [],
   "source": [
    "# View the distribution of the column\n",
    "sns.histplot(numerical_columns['gps_height'], kde=True, stat=\"density\", linewidth=0)\n",
    "\n",
    "# giving title to the plot\n",
    "plt.title(\"Distribution of 'gps_height'\")\n",
    "\n",
    "plt.show()"
   ]
  },
  {
   "cell_type": "code",
   "execution_count": null,
   "id": "b93b18d4",
   "metadata": {},
   "outputs": [],
   "source": [
    "# This column also had a disproportial amount of zeros. I'll also replace the zero values with the column median\n",
    "gps_height_median = numerical_columns['gps_height']\n",
    "gps_height_median.replace(to_replace = 0, value = gps_height_median.median(), inplace=True)"
   ]
  },
  {
   "cell_type": "code",
   "execution_count": null,
   "id": "edec5ac4",
   "metadata": {},
   "outputs": [],
   "source": [
    "# Check zeros have been successfully converted to median \n",
    "numerical_columns[\"gps_height\"].value_counts()"
   ]
  },
  {
   "cell_type": "markdown",
   "id": "4d29916e",
   "metadata": {},
   "source": [
    "# Model"
   ]
  },
  {
   "cell_type": "markdown",
   "id": "5b48f8f6",
   "metadata": {},
   "source": [
    "## First iteration of models with only numerical columns"
   ]
  },
  {
   "cell_type": "code",
   "execution_count": null,
   "id": "1c4aa059",
   "metadata": {},
   "outputs": [],
   "source": [
    "# Including only the numerical columns as the X variable for first iteration \n",
    "X = numerical_columns.drop(\"id\", axis=1)\n",
    "y = df[\"status_group\"]"
   ]
  },
  {
   "cell_type": "markdown",
   "id": "2a5d04c0",
   "metadata": {},
   "source": [
    "### Fit first logistic regression"
   ]
  },
  {
   "cell_type": "code",
   "execution_count": null,
   "id": "c48ba9ec",
   "metadata": {},
   "outputs": [],
   "source": [
    "lg1 = model_helper(X, y, LogisticRegression(random_state = 11, max_iter = 1000))"
   ]
  },
  {
   "cell_type": "markdown",
   "id": "0c956f67",
   "metadata": {},
   "source": [
    "### Fit first decision tree"
   ]
  },
  {
   "cell_type": "code",
   "execution_count": null,
   "id": "178f56fe",
   "metadata": {},
   "outputs": [],
   "source": [
    "dt1 = model_helper(X, y, DecisionTreeClassifier(max_depth = 10), feature_importance = True)"
   ]
  },
  {
   "cell_type": "markdown",
   "id": "bf1d600c",
   "metadata": {},
   "source": [
    "### Fit first random forest"
   ]
  },
  {
   "cell_type": "code",
   "execution_count": null,
   "id": "791e5afe",
   "metadata": {},
   "outputs": [],
   "source": [
    "rf1 = model_helper(X, y, RandomForestClassifier(max_depth = 10, random_state = 11), feature_importance = True)"
   ]
  },
  {
   "cell_type": "markdown",
   "id": "9bb23c7e",
   "metadata": {},
   "source": [
    "## Second iteration of models with added categorical column, \"basin\""
   ]
  },
  {
   "cell_type": "code",
   "execution_count": null,
   "id": "304be830",
   "metadata": {},
   "outputs": [],
   "source": [
    "# Add in the new X variable, df_dummy_basin, along with the previous numerical columns\n",
    "X = df_dummy_basin.drop(\"id\", axis=1)\n",
    "\n",
    "y = df[\"status_group\"]"
   ]
  },
  {
   "cell_type": "markdown",
   "id": "22888d14",
   "metadata": {},
   "source": [
    "### Fit second logistic regression"
   ]
  },
  {
   "cell_type": "code",
   "execution_count": null,
   "id": "71ba5fc0",
   "metadata": {},
   "outputs": [],
   "source": [
    "lg2 = model_helper(X, y, LogisticRegression(random_state=11, max_iter=1000))"
   ]
  },
  {
   "cell_type": "markdown",
   "id": "2ab605fe",
   "metadata": {},
   "source": [
    "### Fit second decision tree"
   ]
  },
  {
   "cell_type": "code",
   "execution_count": null,
   "id": "422347eb",
   "metadata": {},
   "outputs": [],
   "source": [
    "dt2 = model_helper(X, y, DecisionTreeClassifier(max_depth=10), feature_importance = True)"
   ]
  },
  {
   "cell_type": "markdown",
   "id": "3401fec9",
   "metadata": {},
   "source": [
    "### Fit second random forest"
   ]
  },
  {
   "cell_type": "code",
   "execution_count": null,
   "id": "5463d8b5",
   "metadata": {},
   "outputs": [],
   "source": [
    "rf2 = model_helper(X, y, RandomForestClassifier(max_depth=10), feature_importance = True)"
   ]
  },
  {
   "cell_type": "markdown",
   "id": "431850ae",
   "metadata": {},
   "source": [
    "## Third iteration of models with added dummified categorical column, \"region\""
   ]
  },
  {
   "cell_type": "code",
   "execution_count": null,
   "id": "796cce6e",
   "metadata": {},
   "outputs": [],
   "source": [
    "# Add in the new X variable, df_dummy_region\n",
    "X = df_dummy_region.drop(\"id\", axis=1)\n",
    "\n",
    "y = df[\"status_group\"]"
   ]
  },
  {
   "cell_type": "markdown",
   "id": "2034a66a",
   "metadata": {},
   "source": [
    "### Fit third logistic regression"
   ]
  },
  {
   "cell_type": "code",
   "execution_count": null,
   "id": "a8dd3c1b",
   "metadata": {},
   "outputs": [],
   "source": [
    "lg3 = model_helper(X, y, LogisticRegression(random_state = 11, max_iter = 2000))"
   ]
  },
  {
   "cell_type": "markdown",
   "id": "25b48ba5",
   "metadata": {},
   "source": [
    "### Fit third decision tree"
   ]
  },
  {
   "cell_type": "code",
   "execution_count": null,
   "id": "c8113af5",
   "metadata": {},
   "outputs": [],
   "source": [
    "dt3 = model_helper(X, y, DecisionTreeClassifier(max_depth = 10), feature_importance = True)"
   ]
  },
  {
   "cell_type": "markdown",
   "id": "bf27e1a8",
   "metadata": {},
   "source": [
    "### Fit third random forest"
   ]
  },
  {
   "cell_type": "code",
   "execution_count": null,
   "id": "4edff2a0",
   "metadata": {},
   "outputs": [],
   "source": [
    "rf3 = model_helper(X, y, RandomForestClassifier(max_depth = 10, random_state = 11), feature_importance = True)"
   ]
  },
  {
   "cell_type": "code",
   "execution_count": null,
   "id": "7038d623",
   "metadata": {},
   "outputs": [],
   "source": [
    "# Based off the feature importances of the highest perform model with the third iteration, it looks like the dummified \n",
    "# \"region\" column made a slight improvement to the test score"
   ]
  },
  {
   "cell_type": "markdown",
   "id": "de618669",
   "metadata": {},
   "source": [
    "## Fourth iteration of models with added dummified categorical column, \"quality_group\""
   ]
  },
  {
   "cell_type": "code",
   "execution_count": null,
   "id": "d0a05f77",
   "metadata": {},
   "outputs": [],
   "source": [
    "# Add in the new X variable, df_dummy_quality_group\n",
    "X = df_dummy_quality_group.drop(\"id\", axis=1)\n",
    "\n",
    "y = df[\"status_group\"]"
   ]
  },
  {
   "cell_type": "markdown",
   "id": "59d206e7",
   "metadata": {},
   "source": [
    "### Fit fourth logistic regression"
   ]
  },
  {
   "cell_type": "code",
   "execution_count": null,
   "id": "0bd5b1ff",
   "metadata": {},
   "outputs": [],
   "source": [
    "lg4 = model_helper(X, y, LogisticRegression(random_state = 11, max_iter = 2000)) "
   ]
  },
  {
   "cell_type": "markdown",
   "id": "f13edcae",
   "metadata": {},
   "source": [
    "### Fit fourth decision tree"
   ]
  },
  {
   "cell_type": "code",
   "execution_count": null,
   "id": "6293f69f",
   "metadata": {},
   "outputs": [],
   "source": [
    "dt4 = model_helper(X, y, DecisionTreeClassifier(max_depth = 10), feature_importance = True)"
   ]
  },
  {
   "cell_type": "markdown",
   "id": "ec4dd24f",
   "metadata": {},
   "source": [
    "### Fit fourth random forest"
   ]
  },
  {
   "cell_type": "code",
   "execution_count": null,
   "id": "21ba2100",
   "metadata": {},
   "outputs": [],
   "source": [
    "rf4 = model_helper(X, y, RandomForestClassifier(max_depth = 10, random_state = 11), feature_importance = True)"
   ]
  },
  {
   "cell_type": "markdown",
   "id": "95e34378",
   "metadata": {},
   "source": [
    "## Fifth iteration of models with added dummified categorical column, \"quality_group\""
   ]
  },
  {
   "cell_type": "code",
   "execution_count": null,
   "id": "0712099d",
   "metadata": {},
   "outputs": [],
   "source": [
    "# Add in the new X variable, df_dummy_extraction_type\n",
    "X = df_dummy_extraction_type_class.drop(\"id\", axis=1)\n",
    "\n",
    "y = df[\"status_group\"]"
   ]
  },
  {
   "cell_type": "markdown",
   "id": "f0386dc8",
   "metadata": {},
   "source": [
    "### Fit fifth logistic regression"
   ]
  },
  {
   "cell_type": "code",
   "execution_count": null,
   "id": "1cf31af2",
   "metadata": {},
   "outputs": [],
   "source": [
    "lg5 = model_helper(X, y, LogisticRegression(random_state = 11, max_iter = 2000))"
   ]
  },
  {
   "cell_type": "markdown",
   "id": "0c6d1914",
   "metadata": {},
   "source": [
    "### Fit fifth decision tree"
   ]
  },
  {
   "cell_type": "code",
   "execution_count": null,
   "id": "1e904ed7",
   "metadata": {},
   "outputs": [],
   "source": [
    "dt5 = model_helper(X, y, DecisionTreeClassifier(max_depth = 10), feature_importance = True)"
   ]
  },
  {
   "cell_type": "markdown",
   "id": "ab593dc5",
   "metadata": {},
   "source": [
    "### Fit fifth random forest"
   ]
  },
  {
   "cell_type": "code",
   "execution_count": null,
   "id": "c4dcfe67",
   "metadata": {},
   "outputs": [],
   "source": [
    "rf5 = model_helper(X, y, RandomForestClassifier(max_depth = 20, random_state = 11), feature_importance = True)"
   ]
  },
  {
   "cell_type": "markdown",
   "id": "c74dfd19",
   "metadata": {},
   "source": [
    "### Testing fifth random forest model with test values"
   ]
  },
  {
   "cell_type": "code",
   "execution_count": null,
   "id": "af12bb9d",
   "metadata": {},
   "outputs": [],
   "source": [
    "test_df = pd.read_csv(\"test_df.csv\")\n",
    "test_df.head(2)"
   ]
  },
  {
   "cell_type": "code",
   "execution_count": null,
   "id": "737434a3",
   "metadata": {},
   "outputs": [],
   "source": [
    "my_ids = test_df[\"id\"]\n",
    "my_ids.head(2)"
   ]
  },
  {
   "cell_type": "code",
   "execution_count": null,
   "id": "e804ddb4",
   "metadata": {},
   "outputs": [],
   "source": [
    "test_df.drop(\"id\", axis = 1, inplace = True)"
   ]
  },
  {
   "cell_type": "code",
   "execution_count": null,
   "id": "7d719a84",
   "metadata": {},
   "outputs": [],
   "source": [
    "test_df.head(2)"
   ]
  },
  {
   "cell_type": "code",
   "execution_count": null,
   "id": "8723e640",
   "metadata": {},
   "outputs": [],
   "source": [
    "rf_final = model_helper(X, y, RandomForestClassifier(max_depth = 20, random_state = 11), feature_importance = True)"
   ]
  },
  {
   "cell_type": "code",
   "execution_count": null,
   "id": "2e0de0df",
   "metadata": {},
   "outputs": [],
   "source": [
    "test_df"
   ]
  },
  {
   "cell_type": "code",
   "execution_count": null,
   "id": "846362ba",
   "metadata": {},
   "outputs": [],
   "source": [
    "rf_final.predict(test_df)"
   ]
  },
  {
   "cell_type": "code",
   "execution_count": null,
   "id": "802b78d0",
   "metadata": {},
   "outputs": [],
   "source": [
    "submission = pd.DataFrame({'id': my_ids, 'status_group': rf5.predict(test_df[X_train.columns])})\n",
    "submission.to_csv('submission.csv', index=False)"
   ]
  },
  {
   "cell_type": "code",
   "execution_count": null,
   "id": "4b83f7af",
   "metadata": {},
   "outputs": [],
   "source": [
    "submission.head()"
   ]
  },
  {
   "cell_type": "code",
   "execution_count": null,
   "id": "43ef42a4",
   "metadata": {},
   "outputs": [],
   "source": [
    "# View feature importance\n",
    "feat_import = pd.DataFrame({'features': X_train.columns, 'importance': rf5.feature_importances_})\n",
    "feat_import.sort_values('importance', ascending=False)"
   ]
  },
  {
   "cell_type": "markdown",
   "id": "eb69b38c",
   "metadata": {},
   "source": [
    "# Interpret"
   ]
  },
  {
   "cell_type": "markdown",
   "id": "3d2a3388",
   "metadata": {},
   "source": [
    "The fifth random forest with the specifications of a max_depth of 20 proved to be the best model for the training set. The \n",
    "accuracy on the training score was left at a 0.931 with the testing score left at 0.811. This showed some overfitting on the \n",
    "the training set, but the overall testing score was the highest from all the models, so I decided that'd be the best model\n",
    "to choose. After applying my best model, the fifth random forest, I added it to the competition website and had an overall score of 0.7525 with my current rank being 4,557 out of 14,106 other competitors. \n"
   ]
  },
  {
   "cell_type": "markdown",
   "id": "de50f04d",
   "metadata": {},
   "source": [
    "## Future Work"
   ]
  },
  {
   "cell_type": "markdown",
   "id": "6d060385",
   "metadata": {},
   "source": [
    "For future work, I'd be interested in adding more categorical variables and studying how those affect the models. "
   ]
  }
 ],
 "metadata": {
  "kernelspec": {
   "display_name": "Python 3 (ipykernel)",
   "language": "python",
   "name": "python3"
  },
  "language_info": {
   "codemirror_mode": {
    "name": "ipython",
    "version": 3
   },
   "file_extension": ".py",
   "mimetype": "text/x-python",
   "name": "python",
   "nbconvert_exporter": "python",
   "pygments_lexer": "ipython3",
   "version": "3.9.12"
  }
 },
 "nbformat": 4,
 "nbformat_minor": 5
}
