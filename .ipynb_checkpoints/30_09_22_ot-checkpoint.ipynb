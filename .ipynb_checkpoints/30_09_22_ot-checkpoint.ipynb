{
 "cells": [
  {
   "cell_type": "markdown",
   "id": "84619c5d",
   "metadata": {},
   "source": [
    "# Business Problem"
   ]
  },
  {
   "cell_type": "markdown",
   "id": "ab078b1c",
   "metadata": {},
   "source": [
    "Description of the problem from the following website: https://www.drivendata.org/competitions/7/pump-it-up-data-mining-the-water-table/ \n",
    "\n",
    "Can you predict which water pumps are faulty?\n",
    "\n",
    "Using data from Taarifa and the Tanzanian Ministry of Water, can you predict which pumps are functional, which need some repairs, and which don't work at all? This is an intermediate-level practice competition. Predict one of these three classes based on a number of variables about what kind of pump is operating, when it was installed, and how it is managed. A smart understanding of which waterpoints will fail can improve maintenance operations and ensure that clean, potable water is available to communities across Tanzania."
   ]
  },
  {
   "cell_type": "markdown",
   "id": "84509533",
   "metadata": {},
   "source": [
    "For the following notebook, I used data science methods to create a model that would be able to predict which water pumps could be accurately classified as \"functional\", \"not functional\", or \"in need of repair\". I used the OSEMN method to the best of my ability and chose the model with the highest accuracy score. "
   ]
  },
  {
   "cell_type": "markdown",
   "id": "026e2478",
   "metadata": {},
   "source": [
    "# Imports"
   ]
  },
  {
   "cell_type": "code",
   "execution_count": 1,
   "id": "aeb51e06",
   "metadata": {},
   "outputs": [],
   "source": [
    "import pandas as pd\n",
    "import seaborn as sns\n",
    "import matplotlib.pyplot as plt\n",
    "%matplotlib inline\n",
    "import numpy as np\n",
    "\n",
    "from sklearn.tree import DecisionTreeClassifier\n",
    "from sklearn.linear_model import LogisticRegression\n",
    "from sklearn.ensemble import RandomForestClassifier\n",
    "from sklearn.model_selection import train_test_split\n",
    "from sklearn.preprocessing import OneHotEncoder\n",
    "\n",
    "from helper import explore_column, model_helper"
   ]
  },
  {
   "cell_type": "code",
   "execution_count": 2,
   "id": "9c431563",
   "metadata": {},
   "outputs": [],
   "source": [
    "# explore_column(df, \"status_group\")"
   ]
  },
  {
   "cell_type": "markdown",
   "id": "f63a4a57",
   "metadata": {},
   "source": [
    "# Obtain"
   ]
  },
  {
   "cell_type": "code",
   "execution_count": 3,
   "id": "b72187d9",
   "metadata": {},
   "outputs": [
    {
     "data": {
      "text/html": [
       "<div>\n",
       "<style scoped>\n",
       "    .dataframe tbody tr th:only-of-type {\n",
       "        vertical-align: middle;\n",
       "    }\n",
       "\n",
       "    .dataframe tbody tr th {\n",
       "        vertical-align: top;\n",
       "    }\n",
       "\n",
       "    .dataframe thead th {\n",
       "        text-align: right;\n",
       "    }\n",
       "</style>\n",
       "<table border=\"1\" class=\"dataframe\">\n",
       "  <thead>\n",
       "    <tr style=\"text-align: right;\">\n",
       "      <th></th>\n",
       "      <th>id</th>\n",
       "      <th>status_group</th>\n",
       "      <th>amount_tsh</th>\n",
       "      <th>date_recorded</th>\n",
       "      <th>funder</th>\n",
       "      <th>gps_height</th>\n",
       "      <th>installer</th>\n",
       "      <th>longitude</th>\n",
       "      <th>latitude</th>\n",
       "      <th>wpt_name</th>\n",
       "      <th>...</th>\n",
       "      <th>payment_type</th>\n",
       "      <th>water_quality</th>\n",
       "      <th>quality_group</th>\n",
       "      <th>quantity</th>\n",
       "      <th>quantity_group</th>\n",
       "      <th>source</th>\n",
       "      <th>source_type</th>\n",
       "      <th>source_class</th>\n",
       "      <th>waterpoint_type</th>\n",
       "      <th>waterpoint_type_group</th>\n",
       "    </tr>\n",
       "  </thead>\n",
       "  <tbody>\n",
       "    <tr>\n",
       "      <th>0</th>\n",
       "      <td>69572</td>\n",
       "      <td>functional</td>\n",
       "      <td>6000.0</td>\n",
       "      <td>3/14/2011</td>\n",
       "      <td>Roman</td>\n",
       "      <td>1390</td>\n",
       "      <td>Roman</td>\n",
       "      <td>34.938093</td>\n",
       "      <td>-9.856322</td>\n",
       "      <td>none</td>\n",
       "      <td>...</td>\n",
       "      <td>annually</td>\n",
       "      <td>soft</td>\n",
       "      <td>good</td>\n",
       "      <td>enough</td>\n",
       "      <td>enough</td>\n",
       "      <td>spring</td>\n",
       "      <td>spring</td>\n",
       "      <td>groundwater</td>\n",
       "      <td>communal standpipe</td>\n",
       "      <td>communal standpipe</td>\n",
       "    </tr>\n",
       "    <tr>\n",
       "      <th>1</th>\n",
       "      <td>8776</td>\n",
       "      <td>functional</td>\n",
       "      <td>0.0</td>\n",
       "      <td>3/6/2013</td>\n",
       "      <td>Grumeti</td>\n",
       "      <td>1399</td>\n",
       "      <td>GRUMETI</td>\n",
       "      <td>34.698766</td>\n",
       "      <td>-2.147466</td>\n",
       "      <td>Zahanati</td>\n",
       "      <td>...</td>\n",
       "      <td>never pay</td>\n",
       "      <td>soft</td>\n",
       "      <td>good</td>\n",
       "      <td>insufficient</td>\n",
       "      <td>insufficient</td>\n",
       "      <td>rainwater harvesting</td>\n",
       "      <td>rainwater harvesting</td>\n",
       "      <td>surface</td>\n",
       "      <td>communal standpipe</td>\n",
       "      <td>communal standpipe</td>\n",
       "    </tr>\n",
       "    <tr>\n",
       "      <th>2</th>\n",
       "      <td>34310</td>\n",
       "      <td>functional</td>\n",
       "      <td>25.0</td>\n",
       "      <td>2/25/2013</td>\n",
       "      <td>Lottery Club</td>\n",
       "      <td>686</td>\n",
       "      <td>World vision</td>\n",
       "      <td>37.460664</td>\n",
       "      <td>-3.821329</td>\n",
       "      <td>Kwa Mahundi</td>\n",
       "      <td>...</td>\n",
       "      <td>per bucket</td>\n",
       "      <td>soft</td>\n",
       "      <td>good</td>\n",
       "      <td>enough</td>\n",
       "      <td>enough</td>\n",
       "      <td>dam</td>\n",
       "      <td>dam</td>\n",
       "      <td>surface</td>\n",
       "      <td>communal standpipe multiple</td>\n",
       "      <td>communal standpipe</td>\n",
       "    </tr>\n",
       "    <tr>\n",
       "      <th>3</th>\n",
       "      <td>67743</td>\n",
       "      <td>non functional</td>\n",
       "      <td>0.0</td>\n",
       "      <td>1/28/2013</td>\n",
       "      <td>Unicef</td>\n",
       "      <td>263</td>\n",
       "      <td>UNICEF</td>\n",
       "      <td>38.486161</td>\n",
       "      <td>-11.155298</td>\n",
       "      <td>Zahanati Ya Nanyumbu</td>\n",
       "      <td>...</td>\n",
       "      <td>never pay</td>\n",
       "      <td>soft</td>\n",
       "      <td>good</td>\n",
       "      <td>dry</td>\n",
       "      <td>dry</td>\n",
       "      <td>machine dbh</td>\n",
       "      <td>borehole</td>\n",
       "      <td>groundwater</td>\n",
       "      <td>communal standpipe multiple</td>\n",
       "      <td>communal standpipe</td>\n",
       "    </tr>\n",
       "    <tr>\n",
       "      <th>4</th>\n",
       "      <td>19728</td>\n",
       "      <td>functional</td>\n",
       "      <td>0.0</td>\n",
       "      <td>7/13/2011</td>\n",
       "      <td>Action In A</td>\n",
       "      <td>0</td>\n",
       "      <td>Artisan</td>\n",
       "      <td>31.130847</td>\n",
       "      <td>-1.825359</td>\n",
       "      <td>Shuleni</td>\n",
       "      <td>...</td>\n",
       "      <td>never pay</td>\n",
       "      <td>soft</td>\n",
       "      <td>good</td>\n",
       "      <td>seasonal</td>\n",
       "      <td>seasonal</td>\n",
       "      <td>rainwater harvesting</td>\n",
       "      <td>rainwater harvesting</td>\n",
       "      <td>surface</td>\n",
       "      <td>communal standpipe</td>\n",
       "      <td>communal standpipe</td>\n",
       "    </tr>\n",
       "  </tbody>\n",
       "</table>\n",
       "<p>5 rows × 41 columns</p>\n",
       "</div>"
      ],
      "text/plain": [
       "      id    status_group  amount_tsh date_recorded        funder  gps_height  \\\n",
       "0  69572      functional      6000.0     3/14/2011         Roman        1390   \n",
       "1   8776      functional         0.0      3/6/2013       Grumeti        1399   \n",
       "2  34310      functional        25.0     2/25/2013  Lottery Club         686   \n",
       "3  67743  non functional         0.0     1/28/2013        Unicef         263   \n",
       "4  19728      functional         0.0     7/13/2011   Action In A           0   \n",
       "\n",
       "      installer  longitude   latitude              wpt_name  ...  \\\n",
       "0         Roman  34.938093  -9.856322                  none  ...   \n",
       "1       GRUMETI  34.698766  -2.147466              Zahanati  ...   \n",
       "2  World vision  37.460664  -3.821329           Kwa Mahundi  ...   \n",
       "3        UNICEF  38.486161 -11.155298  Zahanati Ya Nanyumbu  ...   \n",
       "4       Artisan  31.130847  -1.825359               Shuleni  ...   \n",
       "\n",
       "   payment_type water_quality quality_group      quantity  quantity_group  \\\n",
       "0      annually          soft          good        enough          enough   \n",
       "1     never pay          soft          good  insufficient    insufficient   \n",
       "2    per bucket          soft          good        enough          enough   \n",
       "3     never pay          soft          good           dry             dry   \n",
       "4     never pay          soft          good      seasonal        seasonal   \n",
       "\n",
       "                 source           source_type source_class  \\\n",
       "0                spring                spring  groundwater   \n",
       "1  rainwater harvesting  rainwater harvesting      surface   \n",
       "2                   dam                   dam      surface   \n",
       "3           machine dbh              borehole  groundwater   \n",
       "4  rainwater harvesting  rainwater harvesting      surface   \n",
       "\n",
       "               waterpoint_type waterpoint_type_group  \n",
       "0           communal standpipe    communal standpipe  \n",
       "1           communal standpipe    communal standpipe  \n",
       "2  communal standpipe multiple    communal standpipe  \n",
       "3  communal standpipe multiple    communal standpipe  \n",
       "4           communal standpipe    communal standpipe  \n",
       "\n",
       "[5 rows x 41 columns]"
      ]
     },
     "execution_count": 3,
     "metadata": {},
     "output_type": "execute_result"
    }
   ],
   "source": [
    "# Obtained two csv files for target variable and features. Merged the dataframes. \n",
    "target_df = pd.read_csv(\"training_set_labels.csv\")\n",
    "features_df = pd.read_csv(\"training_set_values.csv\")\n",
    "df = pd.merge(target_df, features_df, on=\"id\")\n",
    "df.head()"
   ]
  },
  {
   "cell_type": "code",
   "execution_count": 4,
   "id": "6c5a0a31",
   "metadata": {},
   "outputs": [
    {
     "data": {
      "text/html": [
       "<div>\n",
       "<style scoped>\n",
       "    .dataframe tbody tr th:only-of-type {\n",
       "        vertical-align: middle;\n",
       "    }\n",
       "\n",
       "    .dataframe tbody tr th {\n",
       "        vertical-align: top;\n",
       "    }\n",
       "\n",
       "    .dataframe thead th {\n",
       "        text-align: right;\n",
       "    }\n",
       "</style>\n",
       "<table border=\"1\" class=\"dataframe\">\n",
       "  <thead>\n",
       "    <tr style=\"text-align: right;\">\n",
       "      <th></th>\n",
       "      <th>id</th>\n",
       "      <th>amount_tsh</th>\n",
       "      <th>gps_height</th>\n",
       "      <th>longitude</th>\n",
       "      <th>latitude</th>\n",
       "      <th>num_private</th>\n",
       "      <th>region_code</th>\n",
       "      <th>district_code</th>\n",
       "      <th>population</th>\n",
       "      <th>construction_year</th>\n",
       "    </tr>\n",
       "  </thead>\n",
       "  <tbody>\n",
       "    <tr>\n",
       "      <th>count</th>\n",
       "      <td>59400.000000</td>\n",
       "      <td>59400.000000</td>\n",
       "      <td>59400.000000</td>\n",
       "      <td>59400.000000</td>\n",
       "      <td>5.940000e+04</td>\n",
       "      <td>59400.000000</td>\n",
       "      <td>59400.000000</td>\n",
       "      <td>59400.000000</td>\n",
       "      <td>59400.000000</td>\n",
       "      <td>59400.000000</td>\n",
       "    </tr>\n",
       "    <tr>\n",
       "      <th>mean</th>\n",
       "      <td>37115.131768</td>\n",
       "      <td>317.650385</td>\n",
       "      <td>668.297239</td>\n",
       "      <td>34.077427</td>\n",
       "      <td>-5.706033e+00</td>\n",
       "      <td>0.474141</td>\n",
       "      <td>15.297003</td>\n",
       "      <td>5.629747</td>\n",
       "      <td>179.909983</td>\n",
       "      <td>1300.652475</td>\n",
       "    </tr>\n",
       "    <tr>\n",
       "      <th>std</th>\n",
       "      <td>21453.128371</td>\n",
       "      <td>2997.574558</td>\n",
       "      <td>693.116350</td>\n",
       "      <td>6.567432</td>\n",
       "      <td>2.946019e+00</td>\n",
       "      <td>12.236230</td>\n",
       "      <td>17.587406</td>\n",
       "      <td>9.633649</td>\n",
       "      <td>471.482176</td>\n",
       "      <td>951.620547</td>\n",
       "    </tr>\n",
       "    <tr>\n",
       "      <th>min</th>\n",
       "      <td>0.000000</td>\n",
       "      <td>0.000000</td>\n",
       "      <td>-90.000000</td>\n",
       "      <td>0.000000</td>\n",
       "      <td>-1.164944e+01</td>\n",
       "      <td>0.000000</td>\n",
       "      <td>1.000000</td>\n",
       "      <td>0.000000</td>\n",
       "      <td>0.000000</td>\n",
       "      <td>0.000000</td>\n",
       "    </tr>\n",
       "    <tr>\n",
       "      <th>25%</th>\n",
       "      <td>18519.750000</td>\n",
       "      <td>0.000000</td>\n",
       "      <td>0.000000</td>\n",
       "      <td>33.090347</td>\n",
       "      <td>-8.540621e+00</td>\n",
       "      <td>0.000000</td>\n",
       "      <td>5.000000</td>\n",
       "      <td>2.000000</td>\n",
       "      <td>0.000000</td>\n",
       "      <td>0.000000</td>\n",
       "    </tr>\n",
       "    <tr>\n",
       "      <th>50%</th>\n",
       "      <td>37061.500000</td>\n",
       "      <td>0.000000</td>\n",
       "      <td>369.000000</td>\n",
       "      <td>34.908743</td>\n",
       "      <td>-5.021597e+00</td>\n",
       "      <td>0.000000</td>\n",
       "      <td>12.000000</td>\n",
       "      <td>3.000000</td>\n",
       "      <td>25.000000</td>\n",
       "      <td>1986.000000</td>\n",
       "    </tr>\n",
       "    <tr>\n",
       "      <th>75%</th>\n",
       "      <td>55656.500000</td>\n",
       "      <td>20.000000</td>\n",
       "      <td>1319.250000</td>\n",
       "      <td>37.178387</td>\n",
       "      <td>-3.326156e+00</td>\n",
       "      <td>0.000000</td>\n",
       "      <td>17.000000</td>\n",
       "      <td>5.000000</td>\n",
       "      <td>215.000000</td>\n",
       "      <td>2004.000000</td>\n",
       "    </tr>\n",
       "    <tr>\n",
       "      <th>max</th>\n",
       "      <td>74247.000000</td>\n",
       "      <td>350000.000000</td>\n",
       "      <td>2770.000000</td>\n",
       "      <td>40.345193</td>\n",
       "      <td>-2.000000e-08</td>\n",
       "      <td>1776.000000</td>\n",
       "      <td>99.000000</td>\n",
       "      <td>80.000000</td>\n",
       "      <td>30500.000000</td>\n",
       "      <td>2013.000000</td>\n",
       "    </tr>\n",
       "  </tbody>\n",
       "</table>\n",
       "</div>"
      ],
      "text/plain": [
       "                 id     amount_tsh    gps_height     longitude      latitude  \\\n",
       "count  59400.000000   59400.000000  59400.000000  59400.000000  5.940000e+04   \n",
       "mean   37115.131768     317.650385    668.297239     34.077427 -5.706033e+00   \n",
       "std    21453.128371    2997.574558    693.116350      6.567432  2.946019e+00   \n",
       "min        0.000000       0.000000    -90.000000      0.000000 -1.164944e+01   \n",
       "25%    18519.750000       0.000000      0.000000     33.090347 -8.540621e+00   \n",
       "50%    37061.500000       0.000000    369.000000     34.908743 -5.021597e+00   \n",
       "75%    55656.500000      20.000000   1319.250000     37.178387 -3.326156e+00   \n",
       "max    74247.000000  350000.000000   2770.000000     40.345193 -2.000000e-08   \n",
       "\n",
       "        num_private   region_code  district_code    population  \\\n",
       "count  59400.000000  59400.000000   59400.000000  59400.000000   \n",
       "mean       0.474141     15.297003       5.629747    179.909983   \n",
       "std       12.236230     17.587406       9.633649    471.482176   \n",
       "min        0.000000      1.000000       0.000000      0.000000   \n",
       "25%        0.000000      5.000000       2.000000      0.000000   \n",
       "50%        0.000000     12.000000       3.000000     25.000000   \n",
       "75%        0.000000     17.000000       5.000000    215.000000   \n",
       "max     1776.000000     99.000000      80.000000  30500.000000   \n",
       "\n",
       "       construction_year  \n",
       "count       59400.000000  \n",
       "mean         1300.652475  \n",
       "std           951.620547  \n",
       "min             0.000000  \n",
       "25%             0.000000  \n",
       "50%          1986.000000  \n",
       "75%          2004.000000  \n",
       "max          2013.000000  "
      ]
     },
     "execution_count": 4,
     "metadata": {},
     "output_type": "execute_result"
    }
   ],
   "source": [
    "# View dataframe statistics\n",
    "# There are only 9 numerical columns. In light of this information, will make a vanilla model with only numerical \n",
    "# columns then add in categorical columns to see if that improves the results\n",
    "df.describe()"
   ]
  },
  {
   "cell_type": "code",
   "execution_count": 5,
   "id": "2ede90d0",
   "metadata": {},
   "outputs": [
    {
     "name": "stdout",
     "output_type": "stream",
     "text": [
      "<class 'pandas.core.frame.DataFrame'>\n",
      "Int64Index: 59400 entries, 0 to 59399\n",
      "Data columns (total 41 columns):\n",
      " #   Column                 Non-Null Count  Dtype  \n",
      "---  ------                 --------------  -----  \n",
      " 0   id                     59400 non-null  int64  \n",
      " 1   status_group           59400 non-null  object \n",
      " 2   amount_tsh             59400 non-null  float64\n",
      " 3   date_recorded          59400 non-null  object \n",
      " 4   funder                 55765 non-null  object \n",
      " 5   gps_height             59400 non-null  int64  \n",
      " 6   installer              55745 non-null  object \n",
      " 7   longitude              59400 non-null  float64\n",
      " 8   latitude               59400 non-null  float64\n",
      " 9   wpt_name               59400 non-null  object \n",
      " 10  num_private            59400 non-null  int64  \n",
      " 11  basin                  59400 non-null  object \n",
      " 12  subvillage             59029 non-null  object \n",
      " 13  region                 59400 non-null  object \n",
      " 14  region_code            59400 non-null  int64  \n",
      " 15  district_code          59400 non-null  int64  \n",
      " 16  lga                    59400 non-null  object \n",
      " 17  ward                   59400 non-null  object \n",
      " 18  population             59400 non-null  int64  \n",
      " 19  public_meeting         56066 non-null  object \n",
      " 20  recorded_by            59400 non-null  object \n",
      " 21  scheme_management      55523 non-null  object \n",
      " 22  scheme_name            31234 non-null  object \n",
      " 23  permit                 56344 non-null  object \n",
      " 24  construction_year      59400 non-null  int64  \n",
      " 25  extraction_type        59400 non-null  object \n",
      " 26  extraction_type_group  59400 non-null  object \n",
      " 27  extraction_type_class  59400 non-null  object \n",
      " 28  management             59400 non-null  object \n",
      " 29  management_group       59400 non-null  object \n",
      " 30  payment                59400 non-null  object \n",
      " 31  payment_type           59400 non-null  object \n",
      " 32  water_quality          59400 non-null  object \n",
      " 33  quality_group          59400 non-null  object \n",
      " 34  quantity               59400 non-null  object \n",
      " 35  quantity_group         59400 non-null  object \n",
      " 36  source                 59400 non-null  object \n",
      " 37  source_type            59400 non-null  object \n",
      " 38  source_class           59400 non-null  object \n",
      " 39  waterpoint_type        59400 non-null  object \n",
      " 40  waterpoint_type_group  59400 non-null  object \n",
      "dtypes: float64(3), int64(7), object(31)\n",
      "memory usage: 19.0+ MB\n"
     ]
    }
   ],
   "source": [
    "# 40 variables that appear to be mostly string datatypes. A lot of the columns look like they could have similar information, \n",
    "# such as the three columns, \"extraction_type\", \"extraction_type_group\", and \"extraction_type_class\". They all have the same\n",
    "# description as well, \"The kind of extraction the waterpoint uses\". Will look at getting rid of columns that are non needed \n",
    "# or are redundant. \n",
    "df.info()"
   ]
  },
  {
   "cell_type": "code",
   "execution_count": 6,
   "id": "55432a17",
   "metadata": {},
   "outputs": [],
   "source": [
    "# Using a bar chart to view the distribution of the target variable, \"status_group\". With there being three potential outcomes,\n",
    "# this graph show that this is a multiclass classification problem that is imbalanced"
   ]
  },
  {
   "cell_type": "code",
   "execution_count": 7,
   "id": "fcc5b546",
   "metadata": {},
   "outputs": [
    {
     "data": {
      "image/png": "[encoded data removed]",
      "text/plain": [
       "<Figure size 432x288 with 1 Axes>"
      ]
     },
     "metadata": {
      "needs_background": "light"
     },
     "output_type": "display_data"
    }
   ],
   "source": [
    "# View distribution of the \"status_group\" values\n",
    "df['status_group'].value_counts().plot(kind='bar')\n",
    "      \n",
    "# giving title to the plot\n",
    "plt.title(\"Distribution of 'status_group'\")\n",
    "      \n",
    "# giving X and Y labels\n",
    "plt.xlabel(\"Status Groups\")\n",
    "plt.ylabel(\"Number of Water Pumps\")\n",
    "\n",
    "plt.show()"
   ]
  },
  {
   "cell_type": "code",
   "execution_count": 8,
   "id": "1788418e",
   "metadata": {},
   "outputs": [
    {
     "data": {
      "text/plain": [
       "functional                 0.543081\n",
       "non functional             0.384242\n",
       "functional needs repair    0.072677\n",
       "Name: status_group, dtype: float64"
      ]
     },
     "execution_count": 8,
     "metadata": {},
     "output_type": "execute_result"
    }
   ],
   "source": [
    "# The percentage of \"functional needs repair\" is very low compared to the other two options. Since\n",
    "# there are so few, I'm going to drop those values from the status_group column in order to solve the class\n",
    "# imbalance problem\n",
    "df['status_group'].value_counts(normalize=True)"
   ]
  },
  {
   "cell_type": "code",
   "execution_count": 9,
   "id": "8f6c6d03",
   "metadata": {},
   "outputs": [],
   "source": [
    "# Dropping \"functional needs repair\"\n",
    "df = df[df.status_group != \"functional needs repair\"]"
   ]
  },
  {
   "cell_type": "code",
   "execution_count": 10,
   "id": "e5a4beaa",
   "metadata": {},
   "outputs": [
    {
     "data": {
      "text/plain": [
       "functional        0.585643\n",
       "non functional    0.414357\n",
       "Name: status_group, dtype: float64"
      ]
     },
     "execution_count": 10,
     "metadata": {},
     "output_type": "execute_result"
    }
   ],
   "source": [
    "# Confirming the drop\n",
    "df['status_group'].value_counts(normalize=True)"
   ]
  },
  {
   "cell_type": "markdown",
   "id": "249b5341",
   "metadata": {},
   "source": [
    "# Scrub/Explore"
   ]
  },
  {
   "cell_type": "code",
   "execution_count": 11,
   "id": "1dac7f21",
   "metadata": {},
   "outputs": [],
   "source": [
    "# For the first vanilla model, I'll use the numerical columns from the dataset.\n",
    "# I'll approach this problem by using a forward selection method, but for that, I'll first use the \n",
    "# numerical columns and add features from there. "
   ]
  },
  {
   "cell_type": "code",
   "execution_count": 12,
   "id": "9a46628e",
   "metadata": {},
   "outputs": [
    {
     "data": {
      "text/html": [
       "<div>\n",
       "<style scoped>\n",
       "    .dataframe tbody tr th:only-of-type {\n",
       "        vertical-align: middle;\n",
       "    }\n",
       "\n",
       "    .dataframe tbody tr th {\n",
       "        vertical-align: top;\n",
       "    }\n",
       "\n",
       "    .dataframe thead th {\n",
       "        text-align: right;\n",
       "    }\n",
       "</style>\n",
       "<table border=\"1\" class=\"dataframe\">\n",
       "  <thead>\n",
       "    <tr style=\"text-align: right;\">\n",
       "      <th></th>\n",
       "      <th>id</th>\n",
       "      <th>amount_tsh</th>\n",
       "      <th>gps_height</th>\n",
       "      <th>longitude</th>\n",
       "      <th>latitude</th>\n",
       "      <th>num_private</th>\n",
       "      <th>region_code</th>\n",
       "      <th>district_code</th>\n",
       "      <th>population</th>\n",
       "      <th>construction_year</th>\n",
       "    </tr>\n",
       "  </thead>\n",
       "  <tbody>\n",
       "    <tr>\n",
       "      <th>0</th>\n",
       "      <td>69572</td>\n",
       "      <td>6000.0</td>\n",
       "      <td>1390</td>\n",
       "      <td>34.938093</td>\n",
       "      <td>-9.856322</td>\n",
       "      <td>0</td>\n",
       "      <td>11</td>\n",
       "      <td>5</td>\n",
       "      <td>109</td>\n",
       "      <td>1999</td>\n",
       "    </tr>\n",
       "    <tr>\n",
       "      <th>1</th>\n",
       "      <td>8776</td>\n",
       "      <td>0.0</td>\n",
       "      <td>1399</td>\n",
       "      <td>34.698766</td>\n",
       "      <td>-2.147466</td>\n",
       "      <td>0</td>\n",
       "      <td>20</td>\n",
       "      <td>2</td>\n",
       "      <td>280</td>\n",
       "      <td>2010</td>\n",
       "    </tr>\n",
       "  </tbody>\n",
       "</table>\n",
       "</div>"
      ],
      "text/plain": [
       "      id  amount_tsh  gps_height  longitude  latitude  num_private  \\\n",
       "0  69572      6000.0        1390  34.938093 -9.856322            0   \n",
       "1   8776         0.0        1399  34.698766 -2.147466            0   \n",
       "\n",
       "   region_code  district_code  population  construction_year  \n",
       "0           11              5         109               1999  \n",
       "1           20              2         280               2010  "
      ]
     },
     "execution_count": 12,
     "metadata": {},
     "output_type": "execute_result"
    }
   ],
   "source": [
    "# Numerical columns\n",
    "numerical_columns = df.select_dtypes(\"number\")\n",
    "numerical_columns.head(2)"
   ]
  },
  {
   "cell_type": "code",
   "execution_count": 13,
   "id": "accfaa2f",
   "metadata": {},
   "outputs": [],
   "source": [
    "# Next step after trying the vanilla decision tree model and the random forest model, \n",
    "# use the models to decide on feature importance for the next categorical feature.\n",
    "# Based off the two models, the features that were most important were geographical, so\n",
    "# my next categorical feature will be on that is geographical. In the dataset, there are a few\n",
    "# that fit that description, \"basin\", \"subvillage\", \"region\", \"lga\", \"ward\". I'll take a look at\n",
    "# the content of each column to make my decision for the next feature"
   ]
  },
  {
   "cell_type": "code",
   "execution_count": 14,
   "id": "19cbc7e0",
   "metadata": {},
   "outputs": [],
   "source": [
    "# Explore the \"basin\", \"subvillage\", \"region\", \"region\", \"lga\" columns"
   ]
  },
  {
   "cell_type": "code",
   "execution_count": 15,
   "id": "f55b741d",
   "metadata": {},
   "outputs": [
    {
     "name": "stdout",
     "output_type": "stream",
     "text": [
      "null values\n",
      "0\n",
      "\n",
      "value counts\n",
      "Lake Victoria              9259\n",
      "Pangani                    8463\n",
      "Rufiji                     7539\n",
      "Internal                   7228\n",
      "Wami / Ruvu                5718\n",
      "Lake Tanganyika            5690\n",
      "Lake Nyasa                 4835\n",
      "Ruvuma / Southern Coast    4167\n",
      "Lake Rukwa                 2184\n",
      "Name: basin, dtype: int64\n",
      "\n",
      "number of unique values\n",
      "9\n",
      "\n",
      "descriptive statistics\n",
      "count             55083\n",
      "unique                9\n",
      "top       Lake Victoria\n",
      "freq               9259\n",
      "Name: basin, dtype: object\n"
     ]
    }
   ],
   "source": [
    "explore_column(df, \"basin\")"
   ]
  },
  {
   "cell_type": "code",
   "execution_count": 16,
   "id": "77f25f85",
   "metadata": {},
   "outputs": [
    {
     "name": "stdout",
     "output_type": "stream",
     "text": [
      "null values\n",
      "370\n",
      "\n",
      "value counts\n",
      "Majengo             466\n",
      "Madukani            465\n",
      "Shuleni             462\n",
      "Kati                330\n",
      "Mtakuja             248\n",
      "                   ... \n",
      "Murulama Ya Kati      1\n",
      "Kijangara             1\n",
      "Vuge                  1\n",
      "Kasure                1\n",
      "Kikatanyemba          1\n",
      "Name: subvillage, Length: 18482, dtype: int64\n",
      "\n",
      "number of unique values\n",
      "18482\n",
      "\n",
      "descriptive statistics\n",
      "count       54713\n",
      "unique      18482\n",
      "top       Majengo\n",
      "freq          466\n",
      "Name: subvillage, dtype: object\n"
     ]
    }
   ],
   "source": [
    "explore_column(df, \"subvillage\")"
   ]
  },
  {
   "cell_type": "code",
   "execution_count": 17,
   "id": "34da9414",
   "metadata": {},
   "outputs": [
    {
     "name": "stdout",
     "output_type": "stream",
     "text": [
      "null values\n",
      "0\n",
      "\n",
      "value counts\n",
      "Iringa           5171\n",
      "Shinyanga        4347\n",
      "Mbeya            4135\n",
      "Kilimanjaro      4057\n",
      "Morogoro         3706\n",
      "Arusha           3175\n",
      "Kagera           3012\n",
      "Mwanza           2919\n",
      "Pwani            2599\n",
      "Ruvuma           2476\n",
      "Tanga            2474\n",
      "Kigoma           2213\n",
      "Dodoma           1992\n",
      "Singida          1965\n",
      "Tabora           1914\n",
      "Mara             1909\n",
      "Rukwa            1673\n",
      "Mtwara           1604\n",
      "Manyara          1487\n",
      "Lindi            1453\n",
      "Dar es Salaam     802\n",
      "Name: region, dtype: int64\n",
      "\n",
      "number of unique values\n",
      "21\n",
      "\n",
      "descriptive statistics\n",
      "count      55083\n",
      "unique        21\n",
      "top       Iringa\n",
      "freq        5171\n",
      "Name: region, dtype: object\n"
     ]
    }
   ],
   "source": [
    "explore_column(df, \"region\")"
   ]
  },
  {
   "cell_type": "code",
   "execution_count": 18,
   "id": "28c0464f",
   "metadata": {},
   "outputs": [
    {
     "name": "stdout",
     "output_type": "stream",
     "text": [
      "null values\n",
      "0\n",
      "\n",
      "value counts\n",
      "Njombe          2409\n",
      "Arusha Rural    1204\n",
      "Moshi Rural     1132\n",
      "Kilosa          1021\n",
      "Bagamoyo         995\n",
      "                ... \n",
      "Songea Urban      77\n",
      "Kigoma Urban      63\n",
      "Arusha Urban      56\n",
      "Lindi Urban       21\n",
      "Nyamagana          1\n",
      "Name: lga, Length: 125, dtype: int64\n",
      "\n",
      "number of unique values\n",
      "125\n",
      "\n",
      "descriptive statistics\n",
      "count      55083\n",
      "unique       125\n",
      "top       Njombe\n",
      "freq        2409\n",
      "Name: lga, dtype: object\n"
     ]
    }
   ],
   "source": [
    "explore_column(df, \"lga\")"
   ]
  },
  {
   "cell_type": "code",
   "execution_count": 19,
   "id": "5bb81ee9",
   "metadata": {},
   "outputs": [
    {
     "name": "stdout",
     "output_type": "stream",
     "text": [
      "null values\n",
      "0\n",
      "\n",
      "value counts\n",
      "Igosi        307\n",
      "Imalinyi     249\n",
      "Siha Kati    230\n",
      "Mdandu       218\n",
      "Kitunda      203\n",
      "            ... \n",
      "Ifinga         1\n",
      "Simbay         1\n",
      "Matarawe       1\n",
      "Igogo          1\n",
      "Kinungu        1\n",
      "Name: ward, Length: 2090, dtype: int64\n",
      "\n",
      "number of unique values\n",
      "2090\n",
      "\n",
      "descriptive statistics\n",
      "count     55083\n",
      "unique     2090\n",
      "top       Igosi\n",
      "freq        307\n",
      "Name: ward, dtype: object\n"
     ]
    }
   ],
   "source": [
    "explore_column(df, \"ward\")"
   ]
  },
  {
   "cell_type": "markdown",
   "id": "77a55d6f",
   "metadata": {},
   "source": [
    "### Adding \"basin\" column"
   ]
  },
  {
   "cell_type": "code",
   "execution_count": 20,
   "id": "d3fb9d23",
   "metadata": {},
   "outputs": [],
   "source": [
    "# Based of the number of unique values per column, my second categorical choice for a column\n",
    "# will be \"basin\"."
   ]
  },
  {
   "cell_type": "code",
   "execution_count": 65,
   "id": "a8812548",
   "metadata": {},
   "outputs": [
    {
     "data": {
      "image/png": "[encoded data removed]",
      "text/plain": [
       "<Figure size 432x288 with 1 Axes>"
      ]
     },
     "metadata": {
      "needs_background": "light"
     },
     "output_type": "display_data"
    }
   ],
   "source": [
    "# Graph to show distribution of \"basin\" values\n",
    "df['basin'].value_counts().plot(kind='bar')\n",
    "\n",
    "# giving title to the plot\n",
    "plt.title(\"Distribution of 'basin'\")\n",
    "      \n",
    "# giving X and Y labels\n",
    "plt.xlabel(\"Basins\")\n",
    "plt.ylabel(\"Amount\")\n",
    "\n",
    "plt.show()"
   ]
  },
  {
   "cell_type": "code",
   "execution_count": 22,
   "id": "0c56bb9f",
   "metadata": {},
   "outputs": [
    {
     "data": {
      "text/plain": [
       "0"
      ]
     },
     "execution_count": 22,
     "metadata": {},
     "output_type": "execute_result"
    }
   ],
   "source": [
    "# Check for missing values\n",
    "df[\"basin\"].isnull().sum()"
   ]
  },
  {
   "cell_type": "code",
   "execution_count": 23,
   "id": "7d699085",
   "metadata": {},
   "outputs": [
    {
     "data": {
      "text/html": [
       "<div>\n",
       "<style scoped>\n",
       "    .dataframe tbody tr th:only-of-type {\n",
       "        vertical-align: middle;\n",
       "    }\n",
       "\n",
       "    .dataframe tbody tr th {\n",
       "        vertical-align: top;\n",
       "    }\n",
       "\n",
       "    .dataframe thead th {\n",
       "        text-align: right;\n",
       "    }\n",
       "</style>\n",
       "<table border=\"1\" class=\"dataframe\">\n",
       "  <thead>\n",
       "    <tr style=\"text-align: right;\">\n",
       "      <th></th>\n",
       "      <th>id</th>\n",
       "      <th>amount_tsh</th>\n",
       "      <th>gps_height</th>\n",
       "      <th>longitude</th>\n",
       "      <th>latitude</th>\n",
       "      <th>num_private</th>\n",
       "      <th>region_code</th>\n",
       "      <th>district_code</th>\n",
       "      <th>population</th>\n",
       "      <th>construction_year</th>\n",
       "      <th>basin</th>\n",
       "    </tr>\n",
       "  </thead>\n",
       "  <tbody>\n",
       "    <tr>\n",
       "      <th>0</th>\n",
       "      <td>69572</td>\n",
       "      <td>6000.0</td>\n",
       "      <td>1390</td>\n",
       "      <td>34.938093</td>\n",
       "      <td>-9.856322</td>\n",
       "      <td>0</td>\n",
       "      <td>11</td>\n",
       "      <td>5</td>\n",
       "      <td>109</td>\n",
       "      <td>1999</td>\n",
       "      <td>Lake Nyasa</td>\n",
       "    </tr>\n",
       "    <tr>\n",
       "      <th>1</th>\n",
       "      <td>8776</td>\n",
       "      <td>0.0</td>\n",
       "      <td>1399</td>\n",
       "      <td>34.698766</td>\n",
       "      <td>-2.147466</td>\n",
       "      <td>0</td>\n",
       "      <td>20</td>\n",
       "      <td>2</td>\n",
       "      <td>280</td>\n",
       "      <td>2010</td>\n",
       "      <td>Lake Victoria</td>\n",
       "    </tr>\n",
       "    <tr>\n",
       "      <th>2</th>\n",
       "      <td>34310</td>\n",
       "      <td>25.0</td>\n",
       "      <td>686</td>\n",
       "      <td>37.460664</td>\n",
       "      <td>-3.821329</td>\n",
       "      <td>0</td>\n",
       "      <td>21</td>\n",
       "      <td>4</td>\n",
       "      <td>250</td>\n",
       "      <td>2009</td>\n",
       "      <td>Pangani</td>\n",
       "    </tr>\n",
       "    <tr>\n",
       "      <th>3</th>\n",
       "      <td>67743</td>\n",
       "      <td>0.0</td>\n",
       "      <td>263</td>\n",
       "      <td>38.486161</td>\n",
       "      <td>-11.155298</td>\n",
       "      <td>0</td>\n",
       "      <td>90</td>\n",
       "      <td>63</td>\n",
       "      <td>58</td>\n",
       "      <td>1986</td>\n",
       "      <td>Ruvuma / Southern Coast</td>\n",
       "    </tr>\n",
       "    <tr>\n",
       "      <th>4</th>\n",
       "      <td>19728</td>\n",
       "      <td>0.0</td>\n",
       "      <td>0</td>\n",
       "      <td>31.130847</td>\n",
       "      <td>-1.825359</td>\n",
       "      <td>0</td>\n",
       "      <td>18</td>\n",
       "      <td>1</td>\n",
       "      <td>0</td>\n",
       "      <td>0</td>\n",
       "      <td>Lake Victoria</td>\n",
       "    </tr>\n",
       "  </tbody>\n",
       "</table>\n",
       "</div>"
      ],
      "text/plain": [
       "      id  amount_tsh  gps_height  longitude   latitude  num_private  \\\n",
       "0  69572      6000.0        1390  34.938093  -9.856322            0   \n",
       "1   8776         0.0        1399  34.698766  -2.147466            0   \n",
       "2  34310        25.0         686  37.460664  -3.821329            0   \n",
       "3  67743         0.0         263  38.486161 -11.155298            0   \n",
       "4  19728         0.0           0  31.130847  -1.825359            0   \n",
       "\n",
       "   region_code  district_code  population  construction_year  \\\n",
       "0           11              5         109               1999   \n",
       "1           20              2         280               2010   \n",
       "2           21              4         250               2009   \n",
       "3           90             63          58               1986   \n",
       "4           18              1           0                  0   \n",
       "\n",
       "                     basin  \n",
       "0               Lake Nyasa  \n",
       "1            Lake Victoria  \n",
       "2                  Pangani  \n",
       "3  Ruvuma / Southern Coast  \n",
       "4            Lake Victoria  "
      ]
     },
     "execution_count": 23,
     "metadata": {},
     "output_type": "execute_result"
    }
   ],
   "source": [
    "# Add \"basin\" column\n",
    "df_basin = pd.concat([numerical_columns, df['basin']], axis=1)\n",
    "df_basin.head(2)"
   ]
  },
  {
   "cell_type": "code",
   "execution_count": 24,
   "id": "87986fe8",
   "metadata": {},
   "outputs": [
    {
     "name": "stdout",
     "output_type": "stream",
     "text": [
      "Shape before dummy coding:  (55083, 11)\n",
      "Shape after dummy coding:  (55083, 18)\n"
     ]
    }
   ],
   "source": [
    "# Dummy code \"basin\"\n",
    "df_dummy_basin = pd.get_dummies(df_basin, drop_first=True)\n",
    "print('Shape before dummy coding: ', df_basin.shape)\n",
    "print('Shape after dummy coding: ', df_dummy_basin.shape)"
   ]
  },
  {
   "cell_type": "code",
   "execution_count": 25,
   "id": "76a2fa12",
   "metadata": {},
   "outputs": [
    {
     "data": {
      "text/html": [
       "<div>\n",
       "<style scoped>\n",
       "    .dataframe tbody tr th:only-of-type {\n",
       "        vertical-align: middle;\n",
       "    }\n",
       "\n",
       "    .dataframe tbody tr th {\n",
       "        vertical-align: top;\n",
       "    }\n",
       "\n",
       "    .dataframe thead th {\n",
       "        text-align: right;\n",
       "    }\n",
       "</style>\n",
       "<table border=\"1\" class=\"dataframe\">\n",
       "  <thead>\n",
       "    <tr style=\"text-align: right;\">\n",
       "      <th></th>\n",
       "      <th>id</th>\n",
       "      <th>amount_tsh</th>\n",
       "      <th>gps_height</th>\n",
       "      <th>longitude</th>\n",
       "      <th>latitude</th>\n",
       "      <th>num_private</th>\n",
       "      <th>region_code</th>\n",
       "      <th>district_code</th>\n",
       "      <th>population</th>\n",
       "      <th>construction_year</th>\n",
       "      <th>basin_Lake Nyasa</th>\n",
       "      <th>basin_Lake Rukwa</th>\n",
       "      <th>basin_Lake Tanganyika</th>\n",
       "      <th>basin_Lake Victoria</th>\n",
       "      <th>basin_Pangani</th>\n",
       "      <th>basin_Rufiji</th>\n",
       "      <th>basin_Ruvuma / Southern Coast</th>\n",
       "      <th>basin_Wami / Ruvu</th>\n",
       "    </tr>\n",
       "  </thead>\n",
       "  <tbody>\n",
       "    <tr>\n",
       "      <th>0</th>\n",
       "      <td>69572</td>\n",
       "      <td>6000.0</td>\n",
       "      <td>1390</td>\n",
       "      <td>34.938093</td>\n",
       "      <td>-9.856322</td>\n",
       "      <td>0</td>\n",
       "      <td>11</td>\n",
       "      <td>5</td>\n",
       "      <td>109</td>\n",
       "      <td>1999</td>\n",
       "      <td>1</td>\n",
       "      <td>0</td>\n",
       "      <td>0</td>\n",
       "      <td>0</td>\n",
       "      <td>0</td>\n",
       "      <td>0</td>\n",
       "      <td>0</td>\n",
       "      <td>0</td>\n",
       "    </tr>\n",
       "    <tr>\n",
       "      <th>1</th>\n",
       "      <td>8776</td>\n",
       "      <td>0.0</td>\n",
       "      <td>1399</td>\n",
       "      <td>34.698766</td>\n",
       "      <td>-2.147466</td>\n",
       "      <td>0</td>\n",
       "      <td>20</td>\n",
       "      <td>2</td>\n",
       "      <td>280</td>\n",
       "      <td>2010</td>\n",
       "      <td>0</td>\n",
       "      <td>0</td>\n",
       "      <td>0</td>\n",
       "      <td>1</td>\n",
       "      <td>0</td>\n",
       "      <td>0</td>\n",
       "      <td>0</td>\n",
       "      <td>0</td>\n",
       "    </tr>\n",
       "  </tbody>\n",
       "</table>\n",
       "</div>"
      ],
      "text/plain": [
       "      id  amount_tsh  gps_height  longitude  latitude  num_private  \\\n",
       "0  69572      6000.0        1390  34.938093 -9.856322            0   \n",
       "1   8776         0.0        1399  34.698766 -2.147466            0   \n",
       "\n",
       "   region_code  district_code  population  construction_year  \\\n",
       "0           11              5         109               1999   \n",
       "1           20              2         280               2010   \n",
       "\n",
       "   basin_Lake Nyasa  basin_Lake Rukwa  basin_Lake Tanganyika  \\\n",
       "0                 1                 0                      0   \n",
       "1                 0                 0                      0   \n",
       "\n",
       "   basin_Lake Victoria  basin_Pangani  basin_Rufiji  \\\n",
       "0                    0              0             0   \n",
       "1                    1              0             0   \n",
       "\n",
       "   basin_Ruvuma / Southern Coast  basin_Wami / Ruvu  \n",
       "0                              0                  0  \n",
       "1                              0                  0  "
      ]
     },
     "execution_count": 25,
     "metadata": {},
     "output_type": "execute_result"
    }
   ],
   "source": [
    "# Check dataframe\n",
    "df_dummy_basin.head(2)"
   ]
  },
  {
   "cell_type": "code",
   "execution_count": 26,
   "id": "a568290a",
   "metadata": {},
   "outputs": [],
   "source": [
    "# Based of the second iteration of models, it looks like there was slight improvement with the addition of the dummy \"basin\"\n",
    "# column. Next step would be to add another geographical categorical column, and from further exploration, \"region\"\n",
    "# is the next best choice."
   ]
  },
  {
   "cell_type": "markdown",
   "id": "4cbd645a",
   "metadata": {},
   "source": [
    "### Adding \"region\" column"
   ]
  },
  {
   "cell_type": "code",
   "execution_count": 66,
   "id": "c3d0fac0",
   "metadata": {},
   "outputs": [
    {
     "data": {
      "image/png": "[encoded data removed]",
      "text/plain": [
       "<Figure size 432x288 with 1 Axes>"
      ]
     },
     "metadata": {
      "needs_background": "light"
     },
     "output_type": "display_data"
    }
   ],
   "source": [
    "# Graph to show distribution of \"region\" values \n",
    "df['region'].value_counts().plot(kind='bar')\n",
    "\n",
    "# giving title to the plot\n",
    "plt.title(\"Distribution of 'region'\")\n",
    "      \n",
    "# giving X and Y labels\n",
    "plt.xlabel(\"Regions\")\n",
    "plt.ylabel(\"Number of waterpumps per region\")\n",
    "\n",
    "plt.show()"
   ]
  },
  {
   "cell_type": "code",
   "execution_count": 28,
   "id": "eccd1f14",
   "metadata": {},
   "outputs": [
    {
     "data": {
      "text/html": [
       "<div>\n",
       "<style scoped>\n",
       "    .dataframe tbody tr th:only-of-type {\n",
       "        vertical-align: middle;\n",
       "    }\n",
       "\n",
       "    .dataframe tbody tr th {\n",
       "        vertical-align: top;\n",
       "    }\n",
       "\n",
       "    .dataframe thead th {\n",
       "        text-align: right;\n",
       "    }\n",
       "</style>\n",
       "<table border=\"1\" class=\"dataframe\">\n",
       "  <thead>\n",
       "    <tr style=\"text-align: right;\">\n",
       "      <th></th>\n",
       "      <th>id</th>\n",
       "      <th>amount_tsh</th>\n",
       "      <th>gps_height</th>\n",
       "      <th>longitude</th>\n",
       "      <th>latitude</th>\n",
       "      <th>num_private</th>\n",
       "      <th>region_code</th>\n",
       "      <th>district_code</th>\n",
       "      <th>population</th>\n",
       "      <th>construction_year</th>\n",
       "      <th>basin_Lake Nyasa</th>\n",
       "      <th>basin_Lake Rukwa</th>\n",
       "      <th>basin_Lake Tanganyika</th>\n",
       "      <th>basin_Lake Victoria</th>\n",
       "      <th>basin_Pangani</th>\n",
       "      <th>basin_Rufiji</th>\n",
       "      <th>basin_Ruvuma / Southern Coast</th>\n",
       "      <th>basin_Wami / Ruvu</th>\n",
       "      <th>region</th>\n",
       "    </tr>\n",
       "  </thead>\n",
       "  <tbody>\n",
       "    <tr>\n",
       "      <th>0</th>\n",
       "      <td>69572</td>\n",
       "      <td>6000.0</td>\n",
       "      <td>1390</td>\n",
       "      <td>34.938093</td>\n",
       "      <td>-9.856322</td>\n",
       "      <td>0</td>\n",
       "      <td>11</td>\n",
       "      <td>5</td>\n",
       "      <td>109</td>\n",
       "      <td>1999</td>\n",
       "      <td>1</td>\n",
       "      <td>0</td>\n",
       "      <td>0</td>\n",
       "      <td>0</td>\n",
       "      <td>0</td>\n",
       "      <td>0</td>\n",
       "      <td>0</td>\n",
       "      <td>0</td>\n",
       "      <td>Iringa</td>\n",
       "    </tr>\n",
       "    <tr>\n",
       "      <th>1</th>\n",
       "      <td>8776</td>\n",
       "      <td>0.0</td>\n",
       "      <td>1399</td>\n",
       "      <td>34.698766</td>\n",
       "      <td>-2.147466</td>\n",
       "      <td>0</td>\n",
       "      <td>20</td>\n",
       "      <td>2</td>\n",
       "      <td>280</td>\n",
       "      <td>2010</td>\n",
       "      <td>0</td>\n",
       "      <td>0</td>\n",
       "      <td>0</td>\n",
       "      <td>1</td>\n",
       "      <td>0</td>\n",
       "      <td>0</td>\n",
       "      <td>0</td>\n",
       "      <td>0</td>\n",
       "      <td>Mara</td>\n",
       "    </tr>\n",
       "    <tr>\n",
       "      <th>2</th>\n",
       "      <td>34310</td>\n",
       "      <td>25.0</td>\n",
       "      <td>686</td>\n",
       "      <td>37.460664</td>\n",
       "      <td>-3.821329</td>\n",
       "      <td>0</td>\n",
       "      <td>21</td>\n",
       "      <td>4</td>\n",
       "      <td>250</td>\n",
       "      <td>2009</td>\n",
       "      <td>0</td>\n",
       "      <td>0</td>\n",
       "      <td>0</td>\n",
       "      <td>0</td>\n",
       "      <td>1</td>\n",
       "      <td>0</td>\n",
       "      <td>0</td>\n",
       "      <td>0</td>\n",
       "      <td>Manyara</td>\n",
       "    </tr>\n",
       "    <tr>\n",
       "      <th>3</th>\n",
       "      <td>67743</td>\n",
       "      <td>0.0</td>\n",
       "      <td>263</td>\n",
       "      <td>38.486161</td>\n",
       "      <td>-11.155298</td>\n",
       "      <td>0</td>\n",
       "      <td>90</td>\n",
       "      <td>63</td>\n",
       "      <td>58</td>\n",
       "      <td>1986</td>\n",
       "      <td>0</td>\n",
       "      <td>0</td>\n",
       "      <td>0</td>\n",
       "      <td>0</td>\n",
       "      <td>0</td>\n",
       "      <td>0</td>\n",
       "      <td>1</td>\n",
       "      <td>0</td>\n",
       "      <td>Mtwara</td>\n",
       "    </tr>\n",
       "    <tr>\n",
       "      <th>4</th>\n",
       "      <td>19728</td>\n",
       "      <td>0.0</td>\n",
       "      <td>0</td>\n",
       "      <td>31.130847</td>\n",
       "      <td>-1.825359</td>\n",
       "      <td>0</td>\n",
       "      <td>18</td>\n",
       "      <td>1</td>\n",
       "      <td>0</td>\n",
       "      <td>0</td>\n",
       "      <td>0</td>\n",
       "      <td>0</td>\n",
       "      <td>0</td>\n",
       "      <td>1</td>\n",
       "      <td>0</td>\n",
       "      <td>0</td>\n",
       "      <td>0</td>\n",
       "      <td>0</td>\n",
       "      <td>Kagera</td>\n",
       "    </tr>\n",
       "  </tbody>\n",
       "</table>\n",
       "</div>"
      ],
      "text/plain": [
       "      id  amount_tsh  gps_height  longitude   latitude  num_private  \\\n",
       "0  69572      6000.0        1390  34.938093  -9.856322            0   \n",
       "1   8776         0.0        1399  34.698766  -2.147466            0   \n",
       "2  34310        25.0         686  37.460664  -3.821329            0   \n",
       "3  67743         0.0         263  38.486161 -11.155298            0   \n",
       "4  19728         0.0           0  31.130847  -1.825359            0   \n",
       "\n",
       "   region_code  district_code  population  construction_year  \\\n",
       "0           11              5         109               1999   \n",
       "1           20              2         280               2010   \n",
       "2           21              4         250               2009   \n",
       "3           90             63          58               1986   \n",
       "4           18              1           0                  0   \n",
       "\n",
       "   basin_Lake Nyasa  basin_Lake Rukwa  basin_Lake Tanganyika  \\\n",
       "0                 1                 0                      0   \n",
       "1                 0                 0                      0   \n",
       "2                 0                 0                      0   \n",
       "3                 0                 0                      0   \n",
       "4                 0                 0                      0   \n",
       "\n",
       "   basin_Lake Victoria  basin_Pangani  basin_Rufiji  \\\n",
       "0                    0              0             0   \n",
       "1                    1              0             0   \n",
       "2                    0              1             0   \n",
       "3                    0              0             0   \n",
       "4                    1              0             0   \n",
       "\n",
       "   basin_Ruvuma / Southern Coast  basin_Wami / Ruvu   region  \n",
       "0                              0                  0   Iringa  \n",
       "1                              0                  0     Mara  \n",
       "2                              0                  0  Manyara  \n",
       "3                              1                  0   Mtwara  \n",
       "4                              0                  0   Kagera  "
      ]
     },
     "execution_count": 28,
     "metadata": {},
     "output_type": "execute_result"
    }
   ],
   "source": [
    "# Add \"region\" column\n",
    "df_region = pd.concat([df_dummy_basin, df['region']], axis=1)\n",
    "df_region.head(2)"
   ]
  },
  {
   "cell_type": "code",
   "execution_count": 29,
   "id": "92e931e8",
   "metadata": {},
   "outputs": [
    {
     "name": "stdout",
     "output_type": "stream",
     "text": [
      "Shape before dummy coding:  (55083, 18)\n",
      "Shape after dummy coding:  (55083, 38)\n"
     ]
    }
   ],
   "source": [
    "# Dummy code \"region\"\n",
    "df_dummy_region = pd.get_dummies(df_region, drop_first=True)\n",
    "\n",
    "print('Shape before dummy coding: ', df_dummy_basin.shape)\n",
    "\n",
    "print('Shape after dummy coding: ', df_dummy_region.shape)"
   ]
  },
  {
   "cell_type": "code",
   "execution_count": 30,
   "id": "24db870c",
   "metadata": {},
   "outputs": [
    {
     "data": {
      "text/html": [
       "<div>\n",
       "<style scoped>\n",
       "    .dataframe tbody tr th:only-of-type {\n",
       "        vertical-align: middle;\n",
       "    }\n",
       "\n",
       "    .dataframe tbody tr th {\n",
       "        vertical-align: top;\n",
       "    }\n",
       "\n",
       "    .dataframe thead th {\n",
       "        text-align: right;\n",
       "    }\n",
       "</style>\n",
       "<table border=\"1\" class=\"dataframe\">\n",
       "  <thead>\n",
       "    <tr style=\"text-align: right;\">\n",
       "      <th></th>\n",
       "      <th>id</th>\n",
       "      <th>amount_tsh</th>\n",
       "      <th>gps_height</th>\n",
       "      <th>longitude</th>\n",
       "      <th>latitude</th>\n",
       "      <th>num_private</th>\n",
       "      <th>region_code</th>\n",
       "      <th>district_code</th>\n",
       "      <th>population</th>\n",
       "      <th>construction_year</th>\n",
       "      <th>...</th>\n",
       "      <th>region_Morogoro</th>\n",
       "      <th>region_Mtwara</th>\n",
       "      <th>region_Mwanza</th>\n",
       "      <th>region_Pwani</th>\n",
       "      <th>region_Rukwa</th>\n",
       "      <th>region_Ruvuma</th>\n",
       "      <th>region_Shinyanga</th>\n",
       "      <th>region_Singida</th>\n",
       "      <th>region_Tabora</th>\n",
       "      <th>region_Tanga</th>\n",
       "    </tr>\n",
       "  </thead>\n",
       "  <tbody>\n",
       "    <tr>\n",
       "      <th>0</th>\n",
       "      <td>69572</td>\n",
       "      <td>6000.0</td>\n",
       "      <td>1390</td>\n",
       "      <td>34.938093</td>\n",
       "      <td>-9.856322</td>\n",
       "      <td>0</td>\n",
       "      <td>11</td>\n",
       "      <td>5</td>\n",
       "      <td>109</td>\n",
       "      <td>1999</td>\n",
       "      <td>...</td>\n",
       "      <td>0</td>\n",
       "      <td>0</td>\n",
       "      <td>0</td>\n",
       "      <td>0</td>\n",
       "      <td>0</td>\n",
       "      <td>0</td>\n",
       "      <td>0</td>\n",
       "      <td>0</td>\n",
       "      <td>0</td>\n",
       "      <td>0</td>\n",
       "    </tr>\n",
       "    <tr>\n",
       "      <th>1</th>\n",
       "      <td>8776</td>\n",
       "      <td>0.0</td>\n",
       "      <td>1399</td>\n",
       "      <td>34.698766</td>\n",
       "      <td>-2.147466</td>\n",
       "      <td>0</td>\n",
       "      <td>20</td>\n",
       "      <td>2</td>\n",
       "      <td>280</td>\n",
       "      <td>2010</td>\n",
       "      <td>...</td>\n",
       "      <td>0</td>\n",
       "      <td>0</td>\n",
       "      <td>0</td>\n",
       "      <td>0</td>\n",
       "      <td>0</td>\n",
       "      <td>0</td>\n",
       "      <td>0</td>\n",
       "      <td>0</td>\n",
       "      <td>0</td>\n",
       "      <td>0</td>\n",
       "    </tr>\n",
       "  </tbody>\n",
       "</table>\n",
       "<p>2 rows × 38 columns</p>\n",
       "</div>"
      ],
      "text/plain": [
       "      id  amount_tsh  gps_height  longitude  latitude  num_private  \\\n",
       "0  69572      6000.0        1390  34.938093 -9.856322            0   \n",
       "1   8776         0.0        1399  34.698766 -2.147466            0   \n",
       "\n",
       "   region_code  district_code  population  construction_year  ...  \\\n",
       "0           11              5         109               1999  ...   \n",
       "1           20              2         280               2010  ...   \n",
       "\n",
       "   region_Morogoro  region_Mtwara  region_Mwanza  region_Pwani  region_Rukwa  \\\n",
       "0                0              0              0             0             0   \n",
       "1                0              0              0             0             0   \n",
       "\n",
       "   region_Ruvuma  region_Shinyanga  region_Singida  region_Tabora  \\\n",
       "0              0                 0               0              0   \n",
       "1              0                 0               0              0   \n",
       "\n",
       "   region_Tanga  \n",
       "0             0  \n",
       "1             0  \n",
       "\n",
       "[2 rows x 38 columns]"
      ]
     },
     "execution_count": 30,
     "metadata": {},
     "output_type": "execute_result"
    }
   ],
   "source": [
    "# Check dataframe\n",
    "df_dummy_region.head(2)"
   ]
  },
  {
   "cell_type": "markdown",
   "id": "80975bb5",
   "metadata": {},
   "source": [
    "#### Fourth iteration of models"
   ]
  },
  {
   "cell_type": "code",
   "execution_count": 31,
   "id": "0a22ca15",
   "metadata": {},
   "outputs": [
    {
     "name": "stdout",
     "output_type": "stream",
     "text": [
      "<class 'pandas.core.frame.DataFrame'>\n",
      "Int64Index: 55083 entries, 0 to 59399\n",
      "Data columns (total 41 columns):\n",
      " #   Column                 Non-Null Count  Dtype  \n",
      "---  ------                 --------------  -----  \n",
      " 0   id                     55083 non-null  int64  \n",
      " 1   status_group           55083 non-null  object \n",
      " 2   amount_tsh             55083 non-null  float64\n",
      " 3   date_recorded          55083 non-null  object \n",
      " 4   funder                 51885 non-null  object \n",
      " 5   gps_height             55083 non-null  int64  \n",
      " 6   installer              51868 non-null  object \n",
      " 7   longitude              55083 non-null  float64\n",
      " 8   latitude               55083 non-null  float64\n",
      " 9   wpt_name               55083 non-null  object \n",
      " 10  num_private            55083 non-null  int64  \n",
      " 11  basin                  55083 non-null  object \n",
      " 12  subvillage             54713 non-null  object \n",
      " 13  region                 55083 non-null  object \n",
      " 14  region_code            55083 non-null  int64  \n",
      " 15  district_code          55083 non-null  int64  \n",
      " 16  lga                    55083 non-null  object \n",
      " 17  ward                   55083 non-null  object \n",
      " 18  population             55083 non-null  int64  \n",
      " 19  public_meeting         51905 non-null  object \n",
      " 20  recorded_by            55083 non-null  object \n",
      " 21  scheme_management      51429 non-null  object \n",
      " 22  scheme_name            28921 non-null  object \n",
      " 23  permit                 52327 non-null  object \n",
      " 24  construction_year      55083 non-null  int64  \n",
      " 25  extraction_type        55083 non-null  object \n",
      " 26  extraction_type_group  55083 non-null  object \n",
      " 27  extraction_type_class  55083 non-null  object \n",
      " 28  management             55083 non-null  object \n",
      " 29  management_group       55083 non-null  object \n",
      " 30  payment                55083 non-null  object \n",
      " 31  payment_type           55083 non-null  object \n",
      " 32  water_quality          55083 non-null  object \n",
      " 33  quality_group          55083 non-null  object \n",
      " 34  quantity               55083 non-null  object \n",
      " 35  quantity_group         55083 non-null  object \n",
      " 36  source                 55083 non-null  object \n",
      " 37  source_type            55083 non-null  object \n",
      " 38  source_class           55083 non-null  object \n",
      " 39  waterpoint_type        55083 non-null  object \n",
      " 40  waterpoint_type_group  55083 non-null  object \n",
      "dtypes: float64(3), int64(7), object(31)\n",
      "memory usage: 17.7+ MB\n"
     ]
    }
   ],
   "source": [
    "# View original dataframe columns\n",
    "df.info()"
   ]
  },
  {
   "cell_type": "code",
   "execution_count": 32,
   "id": "4d2b9b55",
   "metadata": {},
   "outputs": [
    {
     "name": "stdout",
     "output_type": "stream",
     "text": [
      "null values\n",
      "0\n",
      "\n",
      "value counts\n",
      "soft                  46914\n",
      "salty                  4631\n",
      "unknown                1841\n",
      "milky                   790\n",
      "coloured                436\n",
      "salty abandoned         267\n",
      "fluoride                187\n",
      "fluoride abandoned       17\n",
      "Name: water_quality, dtype: int64\n",
      "\n",
      "number of unique values\n",
      "8\n",
      "\n",
      "descriptive statistics\n",
      "count     55083\n",
      "unique        8\n",
      "top        soft\n",
      "freq      46914\n",
      "Name: water_quality, dtype: object\n"
     ]
    }
   ],
   "source": [
    "explore_column(df, \"water_quality\")"
   ]
  },
  {
   "cell_type": "code",
   "execution_count": 33,
   "id": "64e7b403",
   "metadata": {},
   "outputs": [
    {
     "name": "stdout",
     "output_type": "stream",
     "text": [
      "null values\n",
      "0\n",
      "\n",
      "value counts\n",
      "good        46914\n",
      "salty        4898\n",
      "unknown      1841\n",
      "milky         790\n",
      "colored       436\n",
      "fluoride      204\n",
      "Name: quality_group, dtype: int64\n",
      "\n",
      "number of unique values\n",
      "6\n",
      "\n",
      "descriptive statistics\n",
      "count     55083\n",
      "unique        6\n",
      "top        good\n",
      "freq      46914\n",
      "Name: quality_group, dtype: object\n"
     ]
    }
   ],
   "source": [
    "explore_column(df, \"quality_group\")"
   ]
  },
  {
   "cell_type": "markdown",
   "id": "e33c46c1",
   "metadata": {},
   "source": [
    "### Adding \"quality_group\" column "
   ]
  },
  {
   "cell_type": "code",
   "execution_count": 34,
   "id": "c1ce2a4b",
   "metadata": {},
   "outputs": [],
   "source": [
    "# Next step will be to add another categorical variable. I'll be adding \"quality_group\" to the dataframe."
   ]
  },
  {
   "cell_type": "code",
   "execution_count": 67,
   "id": "1589797c",
   "metadata": {},
   "outputs": [
    {
     "data": {
      "image/png": "[encoded data removed]",
      "text/plain": [
       "<Figure size 432x288 with 1 Axes>"
      ]
     },
     "metadata": {
      "needs_background": "light"
     },
     "output_type": "display_data"
    }
   ],
   "source": [
    "# Graph to show distribution of \"basin\" values \n",
    "df['quality_group'].value_counts().plot(kind='bar')\n",
    "\n",
    "# giving title to the plot\n",
    "plt.title(\"Distribution of 'quality_group'\")\n",
    "      \n",
    "# giving X and Y labels\n",
    "plt.xlabel(\"Quality Groups\")\n",
    "plt.ylabel(\"Amount per group\")\n",
    "\n",
    "plt.show()"
   ]
  },
  {
   "cell_type": "code",
   "execution_count": 36,
   "id": "c378b0b1",
   "metadata": {},
   "outputs": [
    {
     "data": {
      "text/html": [
       "<div>\n",
       "<style scoped>\n",
       "    .dataframe tbody tr th:only-of-type {\n",
       "        vertical-align: middle;\n",
       "    }\n",
       "\n",
       "    .dataframe tbody tr th {\n",
       "        vertical-align: top;\n",
       "    }\n",
       "\n",
       "    .dataframe thead th {\n",
       "        text-align: right;\n",
       "    }\n",
       "</style>\n",
       "<table border=\"1\" class=\"dataframe\">\n",
       "  <thead>\n",
       "    <tr style=\"text-align: right;\">\n",
       "      <th></th>\n",
       "      <th>id</th>\n",
       "      <th>amount_tsh</th>\n",
       "      <th>gps_height</th>\n",
       "      <th>longitude</th>\n",
       "      <th>latitude</th>\n",
       "      <th>num_private</th>\n",
       "      <th>region_code</th>\n",
       "      <th>district_code</th>\n",
       "      <th>population</th>\n",
       "      <th>construction_year</th>\n",
       "      <th>...</th>\n",
       "      <th>region_Mtwara</th>\n",
       "      <th>region_Mwanza</th>\n",
       "      <th>region_Pwani</th>\n",
       "      <th>region_Rukwa</th>\n",
       "      <th>region_Ruvuma</th>\n",
       "      <th>region_Shinyanga</th>\n",
       "      <th>region_Singida</th>\n",
       "      <th>region_Tabora</th>\n",
       "      <th>region_Tanga</th>\n",
       "      <th>quality_group</th>\n",
       "    </tr>\n",
       "  </thead>\n",
       "  <tbody>\n",
       "    <tr>\n",
       "      <th>0</th>\n",
       "      <td>69572</td>\n",
       "      <td>6000.0</td>\n",
       "      <td>1390</td>\n",
       "      <td>34.938093</td>\n",
       "      <td>-9.856322</td>\n",
       "      <td>0</td>\n",
       "      <td>11</td>\n",
       "      <td>5</td>\n",
       "      <td>109</td>\n",
       "      <td>1999</td>\n",
       "      <td>...</td>\n",
       "      <td>0</td>\n",
       "      <td>0</td>\n",
       "      <td>0</td>\n",
       "      <td>0</td>\n",
       "      <td>0</td>\n",
       "      <td>0</td>\n",
       "      <td>0</td>\n",
       "      <td>0</td>\n",
       "      <td>0</td>\n",
       "      <td>good</td>\n",
       "    </tr>\n",
       "    <tr>\n",
       "      <th>1</th>\n",
       "      <td>8776</td>\n",
       "      <td>0.0</td>\n",
       "      <td>1399</td>\n",
       "      <td>34.698766</td>\n",
       "      <td>-2.147466</td>\n",
       "      <td>0</td>\n",
       "      <td>20</td>\n",
       "      <td>2</td>\n",
       "      <td>280</td>\n",
       "      <td>2010</td>\n",
       "      <td>...</td>\n",
       "      <td>0</td>\n",
       "      <td>0</td>\n",
       "      <td>0</td>\n",
       "      <td>0</td>\n",
       "      <td>0</td>\n",
       "      <td>0</td>\n",
       "      <td>0</td>\n",
       "      <td>0</td>\n",
       "      <td>0</td>\n",
       "      <td>good</td>\n",
       "    </tr>\n",
       "  </tbody>\n",
       "</table>\n",
       "<p>2 rows × 39 columns</p>\n",
       "</div>"
      ],
      "text/plain": [
       "      id  amount_tsh  gps_height  longitude  latitude  num_private  \\\n",
       "0  69572      6000.0        1390  34.938093 -9.856322            0   \n",
       "1   8776         0.0        1399  34.698766 -2.147466            0   \n",
       "\n",
       "   region_code  district_code  population  construction_year  ...  \\\n",
       "0           11              5         109               1999  ...   \n",
       "1           20              2         280               2010  ...   \n",
       "\n",
       "   region_Mtwara  region_Mwanza  region_Pwani  region_Rukwa  region_Ruvuma  \\\n",
       "0              0              0             0             0              0   \n",
       "1              0              0             0             0              0   \n",
       "\n",
       "   region_Shinyanga  region_Singida  region_Tabora  region_Tanga  \\\n",
       "0                 0               0              0             0   \n",
       "1                 0               0              0             0   \n",
       "\n",
       "   quality_group  \n",
       "0           good  \n",
       "1           good  \n",
       "\n",
       "[2 rows x 39 columns]"
      ]
     },
     "execution_count": 36,
     "metadata": {},
     "output_type": "execute_result"
    }
   ],
   "source": [
    "# Add \"quality_group\" column\n",
    "df_quality_group = pd.concat([df_dummy_region, df[\"quality_group\"]], axis=1)\n",
    "df_quality_group.head(2)"
   ]
  },
  {
   "cell_type": "code",
   "execution_count": 37,
   "id": "3cfc4e86",
   "metadata": {},
   "outputs": [
    {
     "name": "stdout",
     "output_type": "stream",
     "text": [
      "Shape before dummy coding:  (55083, 38)\n",
      "Shape after dummy coding:  (55083, 43)\n"
     ]
    }
   ],
   "source": [
    "# Dummy code \"quality_group\"\n",
    "df_dummy_quality_group = pd.get_dummies(df_quality_group, drop_first=True)\n",
    "\n",
    "print('Shape before dummy coding: ', df_dummy_region.shape)\n",
    "print('Shape after dummy coding: ', df_dummy_quality_group.shape)"
   ]
  },
  {
   "cell_type": "code",
   "execution_count": 58,
   "id": "4ea876d1",
   "metadata": {},
   "outputs": [
    {
     "data": {
      "text/html": [
       "<div>\n",
       "<style scoped>\n",
       "    .dataframe tbody tr th:only-of-type {\n",
       "        vertical-align: middle;\n",
       "    }\n",
       "\n",
       "    .dataframe tbody tr th {\n",
       "        vertical-align: top;\n",
       "    }\n",
       "\n",
       "    .dataframe thead th {\n",
       "        text-align: right;\n",
       "    }\n",
       "</style>\n",
       "<table border=\"1\" class=\"dataframe\">\n",
       "  <thead>\n",
       "    <tr style=\"text-align: right;\">\n",
       "      <th></th>\n",
       "      <th>id</th>\n",
       "      <th>amount_tsh</th>\n",
       "      <th>gps_height</th>\n",
       "      <th>longitude</th>\n",
       "      <th>latitude</th>\n",
       "      <th>num_private</th>\n",
       "      <th>region_code</th>\n",
       "      <th>district_code</th>\n",
       "      <th>population</th>\n",
       "      <th>construction_year</th>\n",
       "      <th>...</th>\n",
       "      <th>region_Ruvuma</th>\n",
       "      <th>region_Shinyanga</th>\n",
       "      <th>region_Singida</th>\n",
       "      <th>region_Tabora</th>\n",
       "      <th>region_Tanga</th>\n",
       "      <th>quality_group_fluoride</th>\n",
       "      <th>quality_group_good</th>\n",
       "      <th>quality_group_milky</th>\n",
       "      <th>quality_group_salty</th>\n",
       "      <th>quality_group_unknown</th>\n",
       "    </tr>\n",
       "  </thead>\n",
       "  <tbody>\n",
       "    <tr>\n",
       "      <th>0</th>\n",
       "      <td>69572</td>\n",
       "      <td>6000.0</td>\n",
       "      <td>1390</td>\n",
       "      <td>34.938093</td>\n",
       "      <td>-9.856322</td>\n",
       "      <td>0</td>\n",
       "      <td>11</td>\n",
       "      <td>5</td>\n",
       "      <td>109</td>\n",
       "      <td>1999</td>\n",
       "      <td>...</td>\n",
       "      <td>0</td>\n",
       "      <td>0</td>\n",
       "      <td>0</td>\n",
       "      <td>0</td>\n",
       "      <td>0</td>\n",
       "      <td>0</td>\n",
       "      <td>1</td>\n",
       "      <td>0</td>\n",
       "      <td>0</td>\n",
       "      <td>0</td>\n",
       "    </tr>\n",
       "    <tr>\n",
       "      <th>1</th>\n",
       "      <td>8776</td>\n",
       "      <td>0.0</td>\n",
       "      <td>1399</td>\n",
       "      <td>34.698766</td>\n",
       "      <td>-2.147466</td>\n",
       "      <td>0</td>\n",
       "      <td>20</td>\n",
       "      <td>2</td>\n",
       "      <td>280</td>\n",
       "      <td>2010</td>\n",
       "      <td>...</td>\n",
       "      <td>0</td>\n",
       "      <td>0</td>\n",
       "      <td>0</td>\n",
       "      <td>0</td>\n",
       "      <td>0</td>\n",
       "      <td>0</td>\n",
       "      <td>1</td>\n",
       "      <td>0</td>\n",
       "      <td>0</td>\n",
       "      <td>0</td>\n",
       "    </tr>\n",
       "  </tbody>\n",
       "</table>\n",
       "<p>2 rows × 43 columns</p>\n",
       "</div>"
      ],
      "text/plain": [
       "      id  amount_tsh  gps_height  longitude  latitude  num_private  \\\n",
       "0  69572      6000.0        1390  34.938093 -9.856322            0   \n",
       "1   8776         0.0        1399  34.698766 -2.147466            0   \n",
       "\n",
       "   region_code  district_code  population  construction_year  ...  \\\n",
       "0           11              5         109               1999  ...   \n",
       "1           20              2         280               2010  ...   \n",
       "\n",
       "   region_Ruvuma  region_Shinyanga  region_Singida  region_Tabora  \\\n",
       "0              0                 0               0              0   \n",
       "1              0                 0               0              0   \n",
       "\n",
       "   region_Tanga  quality_group_fluoride  quality_group_good  \\\n",
       "0             0                       0                   1   \n",
       "1             0                       0                   1   \n",
       "\n",
       "   quality_group_milky  quality_group_salty  quality_group_unknown  \n",
       "0                    0                    0                      0  \n",
       "1                    0                    0                      0  \n",
       "\n",
       "[2 rows x 43 columns]"
      ]
     },
     "execution_count": 58,
     "metadata": {},
     "output_type": "execute_result"
    }
   ],
   "source": [
    "df_dummy_quality_group.head(2)"
   ]
  },
  {
   "cell_type": "code",
   "execution_count": 39,
   "id": "72900700",
   "metadata": {},
   "outputs": [],
   "source": [
    "# For the fifth iteration of the models, I'd like to try a column that focuses on the \"extraction_type\""
   ]
  },
  {
   "cell_type": "code",
   "execution_count": 40,
   "id": "6e8e5ff3",
   "metadata": {},
   "outputs": [
    {
     "name": "stdout",
     "output_type": "stream",
     "text": [
      "null values\n",
      "0\n",
      "\n",
      "value counts\n",
      "gravity                      24079\n",
      "nira/tanira                   7513\n",
      "other                         6224\n",
      "submersible                   4537\n",
      "swn 80                        3458\n",
      "mono                          2736\n",
      "india mark ii                 2321\n",
      "afridev                       1728\n",
      "ksb                           1389\n",
      "other - rope pump              434\n",
      "other - swn 81                 222\n",
      "windmill                       110\n",
      "india mark iii                  97\n",
      "other - play pump               84\n",
      "cemo                            81\n",
      "walimi                          36\n",
      "climax                          32\n",
      "other - mkulima/shinyanga        2\n",
      "Name: extraction_type, dtype: int64\n",
      "\n",
      "number of unique values\n",
      "18\n",
      "\n",
      "descriptive statistics\n",
      "count       55083\n",
      "unique         18\n",
      "top       gravity\n",
      "freq        24079\n",
      "Name: extraction_type, dtype: object\n"
     ]
    }
   ],
   "source": [
    "explore_column(df, \"extraction_type\")"
   ]
  },
  {
   "cell_type": "code",
   "execution_count": 41,
   "id": "cd460d13",
   "metadata": {},
   "outputs": [
    {
     "name": "stdout",
     "output_type": "stream",
     "text": [
      "null values\n",
      "0\n",
      "\n",
      "value counts\n",
      "gravity            24079\n",
      "nira/tanira         7513\n",
      "other               6224\n",
      "submersible         5926\n",
      "swn 80              3458\n",
      "mono                2736\n",
      "india mark ii       2321\n",
      "afridev             1728\n",
      "rope pump            434\n",
      "other handpump       344\n",
      "other motorpump      113\n",
      "wind-powered         110\n",
      "india mark iii        97\n",
      "Name: extraction_type_group, dtype: int64\n",
      "\n",
      "number of unique values\n",
      "13\n",
      "\n",
      "descriptive statistics\n",
      "count       55083\n",
      "unique         13\n",
      "top       gravity\n",
      "freq        24079\n",
      "Name: extraction_type_group, dtype: object\n"
     ]
    }
   ],
   "source": [
    "explore_column(df, \"extraction_type_group\")"
   ]
  },
  {
   "cell_type": "code",
   "execution_count": 42,
   "id": "0ba4bf90",
   "metadata": {},
   "outputs": [
    {
     "name": "stdout",
     "output_type": "stream",
     "text": [
      "null values\n",
      "0\n",
      "\n",
      "value counts\n",
      "gravity         24079\n",
      "handpump        15461\n",
      "other            6224\n",
      "submersible      5926\n",
      "motorpump        2849\n",
      "rope pump         434\n",
      "wind-powered      110\n",
      "Name: extraction_type_class, dtype: int64\n",
      "\n",
      "number of unique values\n",
      "7\n",
      "\n",
      "descriptive statistics\n",
      "count       55083\n",
      "unique          7\n",
      "top       gravity\n",
      "freq        24079\n",
      "Name: extraction_type_class, dtype: object\n"
     ]
    }
   ],
   "source": [
    "explore_column(df, \"extraction_type_class\")"
   ]
  },
  {
   "cell_type": "markdown",
   "id": "3e1ede69",
   "metadata": {},
   "source": [
    "### Adding \"extraction_type_class\" column"
   ]
  },
  {
   "cell_type": "code",
   "execution_count": 43,
   "id": "b37debeb",
   "metadata": {},
   "outputs": [],
   "source": [
    "# After a look at the three similar variables, I'll use the \"extraction_type_class\" as my next categorical column"
   ]
  },
  {
   "cell_type": "code",
   "execution_count": 69,
   "id": "b972926b",
   "metadata": {},
   "outputs": [
    {
     "data": {
      "image/png": "[encoded data removed]",
      "text/plain": [
       "<Figure size 432x288 with 1 Axes>"
      ]
     },
     "metadata": {
      "needs_background": "light"
     },
     "output_type": "display_data"
    }
   ],
   "source": [
    "# Graph to show distribution of \"basin\" values \n",
    "df['extraction_type_class'].value_counts().plot(kind='bar')\n",
    "\n",
    "# giving title to the plot\n",
    "plt.title(\"Distribution of 'extraction_type_class'\")\n",
    "      \n",
    "# giving X and Y labels\n",
    "plt.xlabel(\"Extraction types\")\n",
    "plt.ylabel(\"Amount\")\n",
    "\n",
    "plt.show()"
   ]
  },
  {
   "cell_type": "code",
   "execution_count": 45,
   "id": "916f3503",
   "metadata": {},
   "outputs": [
    {
     "data": {
      "text/html": [
       "<div>\n",
       "<style scoped>\n",
       "    .dataframe tbody tr th:only-of-type {\n",
       "        vertical-align: middle;\n",
       "    }\n",
       "\n",
       "    .dataframe tbody tr th {\n",
       "        vertical-align: top;\n",
       "    }\n",
       "\n",
       "    .dataframe thead th {\n",
       "        text-align: right;\n",
       "    }\n",
       "</style>\n",
       "<table border=\"1\" class=\"dataframe\">\n",
       "  <thead>\n",
       "    <tr style=\"text-align: right;\">\n",
       "      <th></th>\n",
       "      <th>id</th>\n",
       "      <th>amount_tsh</th>\n",
       "      <th>gps_height</th>\n",
       "      <th>longitude</th>\n",
       "      <th>latitude</th>\n",
       "      <th>num_private</th>\n",
       "      <th>region_code</th>\n",
       "      <th>district_code</th>\n",
       "      <th>population</th>\n",
       "      <th>construction_year</th>\n",
       "      <th>...</th>\n",
       "      <th>region_Shinyanga</th>\n",
       "      <th>region_Singida</th>\n",
       "      <th>region_Tabora</th>\n",
       "      <th>region_Tanga</th>\n",
       "      <th>quality_group_fluoride</th>\n",
       "      <th>quality_group_good</th>\n",
       "      <th>quality_group_milky</th>\n",
       "      <th>quality_group_salty</th>\n",
       "      <th>quality_group_unknown</th>\n",
       "      <th>extraction_type_class</th>\n",
       "    </tr>\n",
       "  </thead>\n",
       "  <tbody>\n",
       "    <tr>\n",
       "      <th>0</th>\n",
       "      <td>69572</td>\n",
       "      <td>6000.0</td>\n",
       "      <td>1390</td>\n",
       "      <td>34.938093</td>\n",
       "      <td>-9.856322</td>\n",
       "      <td>0</td>\n",
       "      <td>11</td>\n",
       "      <td>5</td>\n",
       "      <td>109</td>\n",
       "      <td>1999</td>\n",
       "      <td>...</td>\n",
       "      <td>0</td>\n",
       "      <td>0</td>\n",
       "      <td>0</td>\n",
       "      <td>0</td>\n",
       "      <td>0</td>\n",
       "      <td>1</td>\n",
       "      <td>0</td>\n",
       "      <td>0</td>\n",
       "      <td>0</td>\n",
       "      <td>gravity</td>\n",
       "    </tr>\n",
       "    <tr>\n",
       "      <th>1</th>\n",
       "      <td>8776</td>\n",
       "      <td>0.0</td>\n",
       "      <td>1399</td>\n",
       "      <td>34.698766</td>\n",
       "      <td>-2.147466</td>\n",
       "      <td>0</td>\n",
       "      <td>20</td>\n",
       "      <td>2</td>\n",
       "      <td>280</td>\n",
       "      <td>2010</td>\n",
       "      <td>...</td>\n",
       "      <td>0</td>\n",
       "      <td>0</td>\n",
       "      <td>0</td>\n",
       "      <td>0</td>\n",
       "      <td>0</td>\n",
       "      <td>1</td>\n",
       "      <td>0</td>\n",
       "      <td>0</td>\n",
       "      <td>0</td>\n",
       "      <td>gravity</td>\n",
       "    </tr>\n",
       "    <tr>\n",
       "      <th>2</th>\n",
       "      <td>34310</td>\n",
       "      <td>25.0</td>\n",
       "      <td>686</td>\n",
       "      <td>37.460664</td>\n",
       "      <td>-3.821329</td>\n",
       "      <td>0</td>\n",
       "      <td>21</td>\n",
       "      <td>4</td>\n",
       "      <td>250</td>\n",
       "      <td>2009</td>\n",
       "      <td>...</td>\n",
       "      <td>0</td>\n",
       "      <td>0</td>\n",
       "      <td>0</td>\n",
       "      <td>0</td>\n",
       "      <td>0</td>\n",
       "      <td>1</td>\n",
       "      <td>0</td>\n",
       "      <td>0</td>\n",
       "      <td>0</td>\n",
       "      <td>gravity</td>\n",
       "    </tr>\n",
       "    <tr>\n",
       "      <th>3</th>\n",
       "      <td>67743</td>\n",
       "      <td>0.0</td>\n",
       "      <td>263</td>\n",
       "      <td>38.486161</td>\n",
       "      <td>-11.155298</td>\n",
       "      <td>0</td>\n",
       "      <td>90</td>\n",
       "      <td>63</td>\n",
       "      <td>58</td>\n",
       "      <td>1986</td>\n",
       "      <td>...</td>\n",
       "      <td>0</td>\n",
       "      <td>0</td>\n",
       "      <td>0</td>\n",
       "      <td>0</td>\n",
       "      <td>0</td>\n",
       "      <td>1</td>\n",
       "      <td>0</td>\n",
       "      <td>0</td>\n",
       "      <td>0</td>\n",
       "      <td>submersible</td>\n",
       "    </tr>\n",
       "    <tr>\n",
       "      <th>4</th>\n",
       "      <td>19728</td>\n",
       "      <td>0.0</td>\n",
       "      <td>0</td>\n",
       "      <td>31.130847</td>\n",
       "      <td>-1.825359</td>\n",
       "      <td>0</td>\n",
       "      <td>18</td>\n",
       "      <td>1</td>\n",
       "      <td>0</td>\n",
       "      <td>0</td>\n",
       "      <td>...</td>\n",
       "      <td>0</td>\n",
       "      <td>0</td>\n",
       "      <td>0</td>\n",
       "      <td>0</td>\n",
       "      <td>0</td>\n",
       "      <td>1</td>\n",
       "      <td>0</td>\n",
       "      <td>0</td>\n",
       "      <td>0</td>\n",
       "      <td>gravity</td>\n",
       "    </tr>\n",
       "    <tr>\n",
       "      <th>...</th>\n",
       "      <td>...</td>\n",
       "      <td>...</td>\n",
       "      <td>...</td>\n",
       "      <td>...</td>\n",
       "      <td>...</td>\n",
       "      <td>...</td>\n",
       "      <td>...</td>\n",
       "      <td>...</td>\n",
       "      <td>...</td>\n",
       "      <td>...</td>\n",
       "      <td>...</td>\n",
       "      <td>...</td>\n",
       "      <td>...</td>\n",
       "      <td>...</td>\n",
       "      <td>...</td>\n",
       "      <td>...</td>\n",
       "      <td>...</td>\n",
       "      <td>...</td>\n",
       "      <td>...</td>\n",
       "      <td>...</td>\n",
       "      <td>...</td>\n",
       "    </tr>\n",
       "    <tr>\n",
       "      <th>59395</th>\n",
       "      <td>60739</td>\n",
       "      <td>10.0</td>\n",
       "      <td>1210</td>\n",
       "      <td>37.169807</td>\n",
       "      <td>-3.253847</td>\n",
       "      <td>0</td>\n",
       "      <td>3</td>\n",
       "      <td>5</td>\n",
       "      <td>125</td>\n",
       "      <td>1999</td>\n",
       "      <td>...</td>\n",
       "      <td>0</td>\n",
       "      <td>0</td>\n",
       "      <td>0</td>\n",
       "      <td>0</td>\n",
       "      <td>0</td>\n",
       "      <td>1</td>\n",
       "      <td>0</td>\n",
       "      <td>0</td>\n",
       "      <td>0</td>\n",
       "      <td>gravity</td>\n",
       "    </tr>\n",
       "    <tr>\n",
       "      <th>59396</th>\n",
       "      <td>27263</td>\n",
       "      <td>4700.0</td>\n",
       "      <td>1212</td>\n",
       "      <td>35.249991</td>\n",
       "      <td>-9.070629</td>\n",
       "      <td>0</td>\n",
       "      <td>11</td>\n",
       "      <td>4</td>\n",
       "      <td>56</td>\n",
       "      <td>1996</td>\n",
       "      <td>...</td>\n",
       "      <td>0</td>\n",
       "      <td>0</td>\n",
       "      <td>0</td>\n",
       "      <td>0</td>\n",
       "      <td>0</td>\n",
       "      <td>1</td>\n",
       "      <td>0</td>\n",
       "      <td>0</td>\n",
       "      <td>0</td>\n",
       "      <td>gravity</td>\n",
       "    </tr>\n",
       "    <tr>\n",
       "      <th>59397</th>\n",
       "      <td>37057</td>\n",
       "      <td>0.0</td>\n",
       "      <td>0</td>\n",
       "      <td>34.017087</td>\n",
       "      <td>-8.750434</td>\n",
       "      <td>0</td>\n",
       "      <td>12</td>\n",
       "      <td>7</td>\n",
       "      <td>0</td>\n",
       "      <td>0</td>\n",
       "      <td>...</td>\n",
       "      <td>0</td>\n",
       "      <td>0</td>\n",
       "      <td>0</td>\n",
       "      <td>0</td>\n",
       "      <td>1</td>\n",
       "      <td>0</td>\n",
       "      <td>0</td>\n",
       "      <td>0</td>\n",
       "      <td>0</td>\n",
       "      <td>handpump</td>\n",
       "    </tr>\n",
       "    <tr>\n",
       "      <th>59398</th>\n",
       "      <td>31282</td>\n",
       "      <td>0.0</td>\n",
       "      <td>0</td>\n",
       "      <td>35.861315</td>\n",
       "      <td>-6.378573</td>\n",
       "      <td>0</td>\n",
       "      <td>1</td>\n",
       "      <td>4</td>\n",
       "      <td>0</td>\n",
       "      <td>0</td>\n",
       "      <td>...</td>\n",
       "      <td>0</td>\n",
       "      <td>0</td>\n",
       "      <td>0</td>\n",
       "      <td>0</td>\n",
       "      <td>0</td>\n",
       "      <td>1</td>\n",
       "      <td>0</td>\n",
       "      <td>0</td>\n",
       "      <td>0</td>\n",
       "      <td>handpump</td>\n",
       "    </tr>\n",
       "    <tr>\n",
       "      <th>59399</th>\n",
       "      <td>26348</td>\n",
       "      <td>0.0</td>\n",
       "      <td>191</td>\n",
       "      <td>38.104048</td>\n",
       "      <td>-6.747464</td>\n",
       "      <td>0</td>\n",
       "      <td>5</td>\n",
       "      <td>2</td>\n",
       "      <td>150</td>\n",
       "      <td>2002</td>\n",
       "      <td>...</td>\n",
       "      <td>0</td>\n",
       "      <td>0</td>\n",
       "      <td>0</td>\n",
       "      <td>0</td>\n",
       "      <td>0</td>\n",
       "      <td>0</td>\n",
       "      <td>0</td>\n",
       "      <td>1</td>\n",
       "      <td>0</td>\n",
       "      <td>handpump</td>\n",
       "    </tr>\n",
       "  </tbody>\n",
       "</table>\n",
       "<p>55083 rows × 44 columns</p>\n",
       "</div>"
      ],
      "text/plain": [
       "          id  amount_tsh  gps_height  longitude   latitude  num_private  \\\n",
       "0      69572      6000.0        1390  34.938093  -9.856322            0   \n",
       "1       8776         0.0        1399  34.698766  -2.147466            0   \n",
       "2      34310        25.0         686  37.460664  -3.821329            0   \n",
       "3      67743         0.0         263  38.486161 -11.155298            0   \n",
       "4      19728         0.0           0  31.130847  -1.825359            0   \n",
       "...      ...         ...         ...        ...        ...          ...   \n",
       "59395  60739        10.0        1210  37.169807  -3.253847            0   \n",
       "59396  27263      4700.0        1212  35.249991  -9.070629            0   \n",
       "59397  37057         0.0           0  34.017087  -8.750434            0   \n",
       "59398  31282         0.0           0  35.861315  -6.378573            0   \n",
       "59399  26348         0.0         191  38.104048  -6.747464            0   \n",
       "\n",
       "       region_code  district_code  population  construction_year  ...  \\\n",
       "0               11              5         109               1999  ...   \n",
       "1               20              2         280               2010  ...   \n",
       "2               21              4         250               2009  ...   \n",
       "3               90             63          58               1986  ...   \n",
       "4               18              1           0                  0  ...   \n",
       "...            ...            ...         ...                ...  ...   \n",
       "59395            3              5         125               1999  ...   \n",
       "59396           11              4          56               1996  ...   \n",
       "59397           12              7           0                  0  ...   \n",
       "59398            1              4           0                  0  ...   \n",
       "59399            5              2         150               2002  ...   \n",
       "\n",
       "       region_Shinyanga  region_Singida  region_Tabora  region_Tanga  \\\n",
       "0                     0               0              0             0   \n",
       "1                     0               0              0             0   \n",
       "2                     0               0              0             0   \n",
       "3                     0               0              0             0   \n",
       "4                     0               0              0             0   \n",
       "...                 ...             ...            ...           ...   \n",
       "59395                 0               0              0             0   \n",
       "59396                 0               0              0             0   \n",
       "59397                 0               0              0             0   \n",
       "59398                 0               0              0             0   \n",
       "59399                 0               0              0             0   \n",
       "\n",
       "       quality_group_fluoride  quality_group_good  quality_group_milky  \\\n",
       "0                           0                   1                    0   \n",
       "1                           0                   1                    0   \n",
       "2                           0                   1                    0   \n",
       "3                           0                   1                    0   \n",
       "4                           0                   1                    0   \n",
       "...                       ...                 ...                  ...   \n",
       "59395                       0                   1                    0   \n",
       "59396                       0                   1                    0   \n",
       "59397                       1                   0                    0   \n",
       "59398                       0                   1                    0   \n",
       "59399                       0                   0                    0   \n",
       "\n",
       "       quality_group_salty  quality_group_unknown  extraction_type_class  \n",
       "0                        0                      0                gravity  \n",
       "1                        0                      0                gravity  \n",
       "2                        0                      0                gravity  \n",
       "3                        0                      0            submersible  \n",
       "4                        0                      0                gravity  \n",
       "...                    ...                    ...                    ...  \n",
       "59395                    0                      0                gravity  \n",
       "59396                    0                      0                gravity  \n",
       "59397                    0                      0               handpump  \n",
       "59398                    0                      0               handpump  \n",
       "59399                    1                      0               handpump  \n",
       "\n",
       "[55083 rows x 44 columns]"
      ]
     },
     "execution_count": 45,
     "metadata": {},
     "output_type": "execute_result"
    }
   ],
   "source": [
    "# Add \"extraction_type_class\" column\n",
    "df_extraction_type_class = pd.concat([df_dummy_quality_group, df[\"extraction_type_class\"]], axis=1)\n",
    "df_extraction_type_class"
   ]
  },
  {
   "cell_type": "code",
   "execution_count": 46,
   "id": "fbbc701a",
   "metadata": {},
   "outputs": [
    {
     "name": "stdout",
     "output_type": "stream",
     "text": [
      "Shape before dummy coding:  (55083, 43)\n",
      "Shape after dummy coding:  (55083, 49)\n"
     ]
    }
   ],
   "source": [
    "# Dummy code \"extraction_type_class\"\n",
    "df_dummy_extraction_type_class = pd.get_dummies(df_extraction_type_class, drop_first=True)\n",
    "\n",
    "print('Shape before dummy coding: ', df_dummy_quality_group.shape)\n",
    "print('Shape after dummy coding: ', df_dummy_extraction_type_class.shape)"
   ]
  },
  {
   "cell_type": "code",
   "execution_count": 47,
   "id": "74fdacd9",
   "metadata": {},
   "outputs": [
    {
     "data": {
      "text/html": [
       "<div>\n",
       "<style scoped>\n",
       "    .dataframe tbody tr th:only-of-type {\n",
       "        vertical-align: middle;\n",
       "    }\n",
       "\n",
       "    .dataframe tbody tr th {\n",
       "        vertical-align: top;\n",
       "    }\n",
       "\n",
       "    .dataframe thead th {\n",
       "        text-align: right;\n",
       "    }\n",
       "</style>\n",
       "<table border=\"1\" class=\"dataframe\">\n",
       "  <thead>\n",
       "    <tr style=\"text-align: right;\">\n",
       "      <th></th>\n",
       "      <th>id</th>\n",
       "      <th>amount_tsh</th>\n",
       "      <th>gps_height</th>\n",
       "      <th>longitude</th>\n",
       "      <th>latitude</th>\n",
       "      <th>num_private</th>\n",
       "      <th>region_code</th>\n",
       "      <th>district_code</th>\n",
       "      <th>population</th>\n",
       "      <th>construction_year</th>\n",
       "      <th>...</th>\n",
       "      <th>quality_group_good</th>\n",
       "      <th>quality_group_milky</th>\n",
       "      <th>quality_group_salty</th>\n",
       "      <th>quality_group_unknown</th>\n",
       "      <th>extraction_type_class_handpump</th>\n",
       "      <th>extraction_type_class_motorpump</th>\n",
       "      <th>extraction_type_class_other</th>\n",
       "      <th>extraction_type_class_rope pump</th>\n",
       "      <th>extraction_type_class_submersible</th>\n",
       "      <th>extraction_type_class_wind-powered</th>\n",
       "    </tr>\n",
       "  </thead>\n",
       "  <tbody>\n",
       "    <tr>\n",
       "      <th>0</th>\n",
       "      <td>69572</td>\n",
       "      <td>6000.0</td>\n",
       "      <td>1390</td>\n",
       "      <td>34.938093</td>\n",
       "      <td>-9.856322</td>\n",
       "      <td>0</td>\n",
       "      <td>11</td>\n",
       "      <td>5</td>\n",
       "      <td>109</td>\n",
       "      <td>1999</td>\n",
       "      <td>...</td>\n",
       "      <td>1</td>\n",
       "      <td>0</td>\n",
       "      <td>0</td>\n",
       "      <td>0</td>\n",
       "      <td>0</td>\n",
       "      <td>0</td>\n",
       "      <td>0</td>\n",
       "      <td>0</td>\n",
       "      <td>0</td>\n",
       "      <td>0</td>\n",
       "    </tr>\n",
       "    <tr>\n",
       "      <th>1</th>\n",
       "      <td>8776</td>\n",
       "      <td>0.0</td>\n",
       "      <td>1399</td>\n",
       "      <td>34.698766</td>\n",
       "      <td>-2.147466</td>\n",
       "      <td>0</td>\n",
       "      <td>20</td>\n",
       "      <td>2</td>\n",
       "      <td>280</td>\n",
       "      <td>2010</td>\n",
       "      <td>...</td>\n",
       "      <td>1</td>\n",
       "      <td>0</td>\n",
       "      <td>0</td>\n",
       "      <td>0</td>\n",
       "      <td>0</td>\n",
       "      <td>0</td>\n",
       "      <td>0</td>\n",
       "      <td>0</td>\n",
       "      <td>0</td>\n",
       "      <td>0</td>\n",
       "    </tr>\n",
       "  </tbody>\n",
       "</table>\n",
       "<p>2 rows × 49 columns</p>\n",
       "</div>"
      ],
      "text/plain": [
       "      id  amount_tsh  gps_height  longitude  latitude  num_private  \\\n",
       "0  69572      6000.0        1390  34.938093 -9.856322            0   \n",
       "1   8776         0.0        1399  34.698766 -2.147466            0   \n",
       "\n",
       "   region_code  district_code  population  construction_year  ...  \\\n",
       "0           11              5         109               1999  ...   \n",
       "1           20              2         280               2010  ...   \n",
       "\n",
       "   quality_group_good  quality_group_milky  quality_group_salty  \\\n",
       "0                   1                    0                    0   \n",
       "1                   1                    0                    0   \n",
       "\n",
       "   quality_group_unknown  extraction_type_class_handpump  \\\n",
       "0                      0                               0   \n",
       "1                      0                               0   \n",
       "\n",
       "   extraction_type_class_motorpump  extraction_type_class_other  \\\n",
       "0                                0                            0   \n",
       "1                                0                            0   \n",
       "\n",
       "   extraction_type_class_rope pump  extraction_type_class_submersible  \\\n",
       "0                                0                                  0   \n",
       "1                                0                                  0   \n",
       "\n",
       "   extraction_type_class_wind-powered  \n",
       "0                                   0  \n",
       "1                                   0  \n",
       "\n",
       "[2 rows x 49 columns]"
      ]
     },
     "execution_count": 47,
     "metadata": {},
     "output_type": "execute_result"
    }
   ],
   "source": [
    "# Check new dataframe looks as is expected\n",
    "df_dummy_extraction_type_class.head(2)"
   ]
  },
  {
   "cell_type": "markdown",
   "id": "942d4248",
   "metadata": {},
   "source": [
    "### Feature engineering the numerical columns \"construction_year\" and \"gps_height\""
   ]
  },
  {
   "cell_type": "code",
   "execution_count": 48,
   "id": "fb6c7553",
   "metadata": {},
   "outputs": [],
   "source": [
    "# Feature Engineering\n",
    "# For the construction_year and gps_height I used the median of them to replace the 0 values."
   ]
  },
  {
   "cell_type": "markdown",
   "id": "0f7337bc",
   "metadata": {},
   "source": [
    "### \"construction_year\""
   ]
  },
  {
   "cell_type": "code",
   "execution_count": 70,
   "id": "934f14d8",
   "metadata": {},
   "outputs": [
    {
     "data": {
      "image/png": "[encoded data removed]",
      "text/plain": [
       "<Figure size 432x288 with 1 Axes>"
      ]
     },
     "metadata": {
      "needs_background": "light"
     },
     "output_type": "display_data"
    }
   ],
   "source": [
    "# View the distribution of the column\n",
    "sns.histplot(numerical_columns['construction_year'], kde=True, stat=\"density\", linewidth=0)\n",
    "\n",
    "# giving title to the plot\n",
    "plt.title(\"Distribution of 'construction year'\")\n",
    "\n",
    "plt.show()"
   ]
  },
  {
   "cell_type": "code",
   "execution_count": 50,
   "id": "72946f62",
   "metadata": {},
   "outputs": [
    {
     "name": "stdout",
     "output_type": "stream",
     "text": [
      "null values\n",
      "0\n",
      "\n",
      "value counts\n",
      "0       18920\n",
      "2010     2555\n",
      "2008     2486\n",
      "2009     2395\n",
      "2000     1955\n",
      "2007     1471\n",
      "2006     1336\n",
      "2003     1215\n",
      "2011     1178\n",
      "2004     1053\n",
      "2012     1033\n",
      "2002     1017\n",
      "1978      940\n",
      "1995      939\n",
      "1999      932\n",
      "2005      922\n",
      "1990      895\n",
      "1998      879\n",
      "1985      861\n",
      "1996      763\n",
      "1980      751\n",
      "1984      713\n",
      "1994      695\n",
      "1982      690\n",
      "1972      640\n",
      "1974      637\n",
      "1992      599\n",
      "1997      577\n",
      "1993      574\n",
      "2001      503\n",
      "1988      479\n",
      "1983      467\n",
      "1986      400\n",
      "1970      396\n",
      "1975      396\n",
      "1976      362\n",
      "1991      307\n",
      "1989      302\n",
      "1987      265\n",
      "1981      227\n",
      "1977      192\n",
      "1979      180\n",
      "1973      176\n",
      "2013      175\n",
      "1971      139\n",
      "1960       96\n",
      "1963       79\n",
      "1968       73\n",
      "1967       71\n",
      "1969       56\n",
      "1964       39\n",
      "1962       29\n",
      "1961       18\n",
      "1965       18\n",
      "1966       17\n",
      "Name: construction_year, dtype: int64\n",
      "\n",
      "number of unique values\n",
      "55\n",
      "\n",
      "descriptive statistics\n",
      "count    55083.000000\n",
      "mean      1311.016920\n",
      "std        948.342454\n",
      "min          0.000000\n",
      "25%          0.000000\n",
      "50%       1986.000000\n",
      "75%       2004.000000\n",
      "max       2013.000000\n",
      "Name: construction_year, dtype: float64\n"
     ]
    }
   ],
   "source": [
    "explore_column(df, \"construction_year\")"
   ]
  },
  {
   "cell_type": "code",
   "execution_count": 51,
   "id": "3fd15f95",
   "metadata": {},
   "outputs": [],
   "source": [
    "# This column has a lot of zeros. I'll replace the zero values with the column median\n",
    "construction_year_median = numerical_columns['construction_year']\n",
    "construction_year_median.replace(to_replace = 0, value = construction_year_median.median(), inplace=True)"
   ]
  },
  {
   "cell_type": "markdown",
   "id": "28c23e85",
   "metadata": {},
   "source": [
    "### \"gps_height\""
   ]
  },
  {
   "cell_type": "code",
   "execution_count": 52,
   "id": "895a77bd",
   "metadata": {},
   "outputs": [
    {
     "name": "stdout",
     "output_type": "stream",
     "text": [
      "null values\n",
      "0\n",
      "\n",
      "value counts\n",
      " 0       18675\n",
      "-15         59\n",
      "-13         54\n",
      "-14         51\n",
      "-16         51\n",
      "         ...  \n",
      " 2278        1\n",
      " 2484        1\n",
      " 2264        1\n",
      " 2133        1\n",
      " 2366        1\n",
      "Name: gps_height, Length: 2419, dtype: int64\n",
      "\n",
      "number of unique values\n",
      "2419\n",
      "\n",
      "descriptive statistics\n",
      "count    55083.000000\n",
      "mean       671.486230\n",
      "std        696.404821\n",
      "min        -90.000000\n",
      "25%          0.000000\n",
      "50%        368.000000\n",
      "75%       1325.000000\n",
      "max       2628.000000\n",
      "Name: gps_height, dtype: float64\n"
     ]
    }
   ],
   "source": [
    "explore_column(df, \"gps_height\")"
   ]
  },
  {
   "cell_type": "code",
   "execution_count": 71,
   "id": "6b788ea3",
   "metadata": {},
   "outputs": [
    {
     "data": {
      "image/png": "[encoded data removed]",
      "text/plain": [
       "<Figure size 432x288 with 1 Axes>"
      ]
     },
     "metadata": {
      "needs_background": "light"
     },
     "output_type": "display_data"
    }
   ],
   "source": [
    "# View the distribution of the column\n",
    "sns.histplot(numerical_columns['gps_height'], kde=True, stat=\"density\", linewidth=0)\n",
    "\n",
    "# giving title to the plot\n",
    "plt.title(\"Distribution of 'gps_height'\")\n",
    "\n",
    "plt.show()"
   ]
  },
  {
   "cell_type": "code",
   "execution_count": 54,
   "id": "b93b18d4",
   "metadata": {},
   "outputs": [],
   "source": [
    "# This column also had a disproportial amount of zeros. I'll also replace the zero values with the column median\n",
    "gps_height_median = numerical_columns['gps_height']\n",
    "gps_height_median.replace(to_replace = 0, value = gps_height_median.median(), inplace=True)"
   ]
  },
  {
   "cell_type": "code",
   "execution_count": 55,
   "id": "edec5ac4",
   "metadata": {},
   "outputs": [
    {
     "data": {
      "text/plain": [
       " 368     18693\n",
       "-15         59\n",
       "-13         54\n",
       "-20         51\n",
       "-16         51\n",
       "         ...  \n",
       " 2278        1\n",
       " 2484        1\n",
       " 2264        1\n",
       " 2133        1\n",
       " 2366        1\n",
       "Name: gps_height, Length: 2418, dtype: int64"
      ]
     },
     "execution_count": 55,
     "metadata": {},
     "output_type": "execute_result"
    }
   ],
   "source": [
    "# Check zeros have been successfully converted to median \n",
    "numerical_columns[\"gps_height\"].value_counts()"
   ]
  },
  {
   "cell_type": "markdown",
   "id": "4d29916e",
   "metadata": {},
   "source": [
    "# Model"
   ]
  },
  {
   "cell_type": "markdown",
   "id": "5b48f8f6",
   "metadata": {},
   "source": [
    "## First iteration of models with only numerical columns"
   ]
  },
  {
   "cell_type": "code",
   "execution_count": 61,
   "id": "1c4aa059",
   "metadata": {},
   "outputs": [],
   "source": [
    "# Including only the numerical columns as the X variable for first iteration \n",
    "X = numerical_columns.drop(\"id\", axis=1)\n",
    "y = df[\"status_group\"]"
   ]
  },
  {
   "cell_type": "markdown",
   "id": "2a5d04c0",
   "metadata": {},
   "source": [
    "### Fit first logistic regression"
   ]
  },
  {
   "cell_type": "code",
   "execution_count": 64,
   "id": "c48ba9ec",
   "metadata": {},
   "outputs": [
    {
     "ename": "NameError",
     "evalue": "name 'train_test_split' is not defined",
     "output_type": "error",
     "traceback": [
      "\u001b[1;31m---------------------------------------------------------------------------\u001b[0m",
      "\u001b[1;31mNameError\u001b[0m                                 Traceback (most recent call last)",
      "Input \u001b[1;32mIn [64]\u001b[0m, in \u001b[0;36m<cell line: 1>\u001b[1;34m()\u001b[0m\n\u001b[1;32m----> 1\u001b[0m lg1 \u001b[38;5;241m=\u001b[39m \u001b[43mmodel_helper\u001b[49m\u001b[43m(\u001b[49m\u001b[43mX\u001b[49m\u001b[43m,\u001b[49m\u001b[43m \u001b[49m\u001b[43my\u001b[49m\u001b[43m,\u001b[49m\u001b[43m \u001b[49m\u001b[43mLogisticRegression\u001b[49m\u001b[43m(\u001b[49m\u001b[43mrandom_state\u001b[49m\u001b[43m \u001b[49m\u001b[38;5;241;43m=\u001b[39;49m\u001b[43m \u001b[49m\u001b[38;5;241;43m11\u001b[39;49m\u001b[43m,\u001b[49m\u001b[43m \u001b[49m\u001b[43mmax_iter\u001b[49m\u001b[43m \u001b[49m\u001b[38;5;241;43m=\u001b[39;49m\u001b[43m \u001b[49m\u001b[38;5;241;43m1000\u001b[39;49m\u001b[43m)\u001b[49m\u001b[43m)\u001b[49m\n",
      "File \u001b[1;32m~\\Desktop\\phase_3_project\\helper.py:31\u001b[0m, in \u001b[0;36mmodel_helper\u001b[1;34m(X, y, model, feature_importance)\u001b[0m\n\u001b[0;32m     21\u001b[0m \u001b[38;5;28;01mdef\u001b[39;00m \u001b[38;5;21mmodel_helper\u001b[39m(X, y, model, feature_importance \u001b[38;5;241m=\u001b[39m \u001b[38;5;28;01mFalse\u001b[39;00m):\n\u001b[0;32m     22\u001b[0m     \u001b[38;5;124;03m\"\"\"\u001b[39;00m\n\u001b[0;32m     23\u001b[0m \u001b[38;5;124;03m    Helper function to run sklearn models.  \u001b[39;00m\n\u001b[0;32m     24\u001b[0m \u001b[38;5;124;03m    \u001b[39;00m\n\u001b[1;32m   (...)\u001b[0m\n\u001b[0;32m     29\u001b[0m \u001b[38;5;124;03m        feature_importance (bool): True equals plot feature importance table. \u001b[39;00m\n\u001b[0;32m     30\u001b[0m \u001b[38;5;124;03m    \"\"\"\u001b[39;00m\n\u001b[1;32m---> 31\u001b[0m     X_train, X_test, y_train, y_test \u001b[38;5;241m=\u001b[39m \u001b[43mtrain_test_split\u001b[49m(X, y, test_size \u001b[38;5;241m=\u001b[39m \u001b[38;5;241m.2\u001b[39m, random_state \u001b[38;5;241m=\u001b[39m \u001b[38;5;241m11\u001b[39m)\n\u001b[0;32m     32\u001b[0m     model\u001b[38;5;241m.\u001b[39mfit(X_train, y_train)\n\u001b[0;32m     34\u001b[0m     \u001b[38;5;28mprint\u001b[39m(\u001b[38;5;124mf\u001b[39m\u001b[38;5;124m\"\u001b[39m\u001b[38;5;124mTraining Score: \u001b[39m\u001b[38;5;132;01m{\u001b[39;00mmodel\u001b[38;5;241m.\u001b[39mscore(X_train, y_train)\u001b[38;5;132;01m}\u001b[39;00m\u001b[38;5;124m\"\u001b[39m)\n",
      "\u001b[1;31mNameError\u001b[0m: name 'train_test_split' is not defined"
     ]
    }
   ],
   "source": [
    "lg1 = model_helper(X, y, LogisticRegression(random_state = 11, max_iter = 1000))"
   ]
  },
  {
   "cell_type": "markdown",
   "id": "0c956f67",
   "metadata": {},
   "source": [
    "### Fit first decision tree"
   ]
  },
  {
   "cell_type": "code",
   "execution_count": null,
   "id": "178f56fe",
   "metadata": {},
   "outputs": [],
   "source": [
    "dt1 = model_helper(X, y, DecisionTreeClassifier(max_depth = 10), feature_importance = True)"
   ]
  },
  {
   "cell_type": "markdown",
   "id": "bf1d600c",
   "metadata": {},
   "source": [
    "### Fit first random forest"
   ]
  },
  {
   "cell_type": "code",
   "execution_count": null,
   "id": "36295448",
   "metadata": {},
   "outputs": [],
   "source": [
    "rf1 = model_helper(X, y, RandomForestClassifier(max_depth = 10, random_state = 11), feature_importance = True)"
   ]
  },
  {
   "cell_type": "markdown",
   "id": "9bb23c7e",
   "metadata": {},
   "source": [
    "## Second iteration of models with added categorical column, \"basin\""
   ]
  },
  {
   "cell_type": "code",
   "execution_count": null,
   "id": "304be830",
   "metadata": {},
   "outputs": [],
   "source": [
    "# Add in the new X variable, df_dummy_basin, along with the previous numerical columns\n",
    "X = df_dummy_basin.drop(\"id\", axis=1)\n",
    "\n",
    "y = df[\"status_group\"]"
   ]
  },
  {
   "cell_type": "markdown",
   "id": "22888d14",
   "metadata": {},
   "source": [
    "### Fit second logistic regression"
   ]
  },
  {
   "cell_type": "code",
   "execution_count": null,
   "id": "4b9a7944",
   "metadata": {},
   "outputs": [],
   "source": [
    "lg2 = model_helper(X, y, LogisticRegression(random_state=11, max_iter=1000))"
   ]
  },
  {
   "cell_type": "markdown",
   "id": "2ab605fe",
   "metadata": {},
   "source": [
    "### Fit second decision tree"
   ]
  },
  {
   "cell_type": "code",
   "execution_count": null,
   "id": "5189c8b0",
   "metadata": {},
   "outputs": [],
   "source": [
    "dt2 = model_helper(X, y, DecisionTreeClassifier(max_depth=10), feature_importance = True)"
   ]
  },
  {
   "cell_type": "markdown",
   "id": "3401fec9",
   "metadata": {},
   "source": [
    "### Fit second random forest"
   ]
  },
  {
   "cell_type": "code",
   "execution_count": null,
   "id": "345d10a6",
   "metadata": {},
   "outputs": [],
   "source": [
    "rf2 = model_helper(X, y, RandomForestClassifier(max_depth=10), feature_importance = True)"
   ]
  },
  {
   "cell_type": "markdown",
   "id": "431850ae",
   "metadata": {},
   "source": [
    "## Third iteration of models with added dummified categorical column, \"region\""
   ]
  },
  {
   "cell_type": "code",
   "execution_count": null,
   "id": "796cce6e",
   "metadata": {},
   "outputs": [],
   "source": [
    "# Add in the new X variable, df_dummy_region\n",
    "X = df_dummy_region.drop(\"id\", axis=1)\n",
    "\n",
    "y = df[\"status_group\"]"
   ]
  },
  {
   "cell_type": "markdown",
   "id": "2034a66a",
   "metadata": {},
   "source": [
    "### Fit third logistic regression"
   ]
  },
  {
   "cell_type": "code",
   "execution_count": null,
   "id": "2a205c33",
   "metadata": {},
   "outputs": [],
   "source": [
    "lg3 = model_helper(X, y, LogisticRegression(random_state = 11, max_iter = 2000))"
   ]
  },
  {
   "cell_type": "markdown",
   "id": "25b48ba5",
   "metadata": {},
   "source": [
    "### Fit third decision tree"
   ]
  },
  {
   "cell_type": "code",
   "execution_count": null,
   "id": "88a34053",
   "metadata": {},
   "outputs": [],
   "source": [
    "dt3 = model_helper(X, y, DecisionTreeClassifier(max_depth = 10), feature_importance = True)"
   ]
  },
  {
   "cell_type": "markdown",
   "id": "bf27e1a8",
   "metadata": {},
   "source": [
    "### Fit third random forest"
   ]
  },
  {
   "cell_type": "code",
   "execution_count": null,
   "id": "4d6b76ae",
   "metadata": {},
   "outputs": [],
   "source": [
    "rf3 = model_helper(X, y, RandomForestClassifier(max_depth = 10, random_state = 11), feature_importance = True)"
   ]
  },
  {
   "cell_type": "code",
   "execution_count": null,
   "id": "7038d623",
   "metadata": {},
   "outputs": [],
   "source": [
    "# Based off the feature importances of the highest perform model with the third iteration, it looks like the dummified \n",
    "# \"region\" column made a slight improvement to the test score"
   ]
  },
  {
   "cell_type": "markdown",
   "id": "de618669",
   "metadata": {},
   "source": [
    "## Fourth iteration of models with added dummified categorical column, \"quality_group\""
   ]
  },
  {
   "cell_type": "code",
   "execution_count": null,
   "id": "d0a05f77",
   "metadata": {},
   "outputs": [],
   "source": [
    "# Add in the new X variable, df_dummy_quality_group\n",
    "X = df_dummy_quality_group.drop(\"id\", axis=1)\n",
    "\n",
    "y = df[\"status_group\"]"
   ]
  },
  {
   "cell_type": "markdown",
   "id": "59d206e7",
   "metadata": {},
   "source": [
    "### Fit fourth logistic regression"
   ]
  },
  {
   "cell_type": "code",
   "execution_count": null,
   "id": "415c01ad",
   "metadata": {},
   "outputs": [],
   "source": [
    "lg4 = model_helper(X, y, LogisticRegression(random_state = 11, max_iter = 2000)) "
   ]
  },
  {
   "cell_type": "markdown",
   "id": "f13edcae",
   "metadata": {},
   "source": [
    "### Fit fourth decision tree"
   ]
  },
  {
   "cell_type": "code",
   "execution_count": null,
   "id": "82649027",
   "metadata": {},
   "outputs": [],
   "source": [
    "dt4 = model_helper(X, y, DecisionTreeClassifier(max_depth = 10), feature_importance = True)"
   ]
  },
  {
   "cell_type": "markdown",
   "id": "ec4dd24f",
   "metadata": {},
   "source": [
    "### Fit fourth random forest"
   ]
  },
  {
   "cell_type": "code",
   "execution_count": null,
   "id": "fa6b377f",
   "metadata": {},
   "outputs": [],
   "source": [
    "rf4 = model_helper(X, y, RandomForestClassifier(max_depth = 10, random_state = 11), feature_importance = True)"
   ]
  },
  {
   "cell_type": "markdown",
   "id": "95e34378",
   "metadata": {},
   "source": [
    "## Fifth iteration of models with added dummified categorical column, \"quality_group\""
   ]
  },
  {
   "cell_type": "code",
   "execution_count": null,
   "id": "0712099d",
   "metadata": {},
   "outputs": [],
   "source": [
    "# Add in the new X variable, df_dummy_extraction_type\n",
    "X = df_dummy_extraction_type_class.drop(\"id\", axis=1)\n",
    "\n",
    "y = df[\"status_group\"]"
   ]
  },
  {
   "cell_type": "markdown",
   "id": "f0386dc8",
   "metadata": {},
   "source": [
    "### Fit fifth logistic regression"
   ]
  },
  {
   "cell_type": "code",
   "execution_count": null,
   "id": "2c70753e",
   "metadata": {},
   "outputs": [],
   "source": [
    "lg5 = model_helper(X, y, LogisticRegression(random_state = 11, max_iter = 2000))"
   ]
  },
  {
   "cell_type": "markdown",
   "id": "0c6d1914",
   "metadata": {},
   "source": [
    "### Fit fifth decision tree"
   ]
  },
  {
   "cell_type": "code",
   "execution_count": null,
   "id": "286f86d3",
   "metadata": {},
   "outputs": [],
   "source": [
    "dt5 = model_helper(X, y, DecisionTreeClassifier(max_depth = 10), feature_importance = True))"
   ]
  },
  {
   "cell_type": "markdown",
   "id": "ab593dc5",
   "metadata": {},
   "source": [
    "### Fit fifth random forest"
   ]
  },
  {
   "cell_type": "code",
   "execution_count": null,
   "id": "69527aa1",
   "metadata": {},
   "outputs": [],
   "source": [
    "rf5 = model_helper(X, y, RandomForestClassifier(max_depth = 20, random_state = 11), feature_importance = True)"
   ]
  },
  {
   "cell_type": "markdown",
   "id": "c74dfd19",
   "metadata": {},
   "source": [
    "### Testing fifth random forest model with test values"
   ]
  },
  {
   "cell_type": "code",
   "execution_count": null,
   "id": "af12bb9d",
   "metadata": {},
   "outputs": [],
   "source": [
    "test_df = pd.read_csv(\"test_df.csv\")\n",
    "test_df.head(2)"
   ]
  },
  {
   "cell_type": "code",
   "execution_count": null,
   "id": "737434a3",
   "metadata": {},
   "outputs": [],
   "source": [
    "my_ids = test_df[\"id\"]\n",
    "my_ids.head(2)"
   ]
  },
  {
   "cell_type": "code",
   "execution_count": null,
   "id": "e804ddb4",
   "metadata": {},
   "outputs": [],
   "source": [
    "test_df.drop(\"id\", axis = 1, inplace = True)"
   ]
  },
  {
   "cell_type": "code",
   "execution_count": null,
   "id": "7d719a84",
   "metadata": {},
   "outputs": [],
   "source": [
    "test_df.head(2)"
   ]
  },
  {
   "cell_type": "code",
   "execution_count": null,
   "id": "846362ba",
   "metadata": {},
   "outputs": [],
   "source": [
    "rf5.predict(test_df)"
   ]
  },
  {
   "cell_type": "code",
   "execution_count": null,
   "id": "802b78d0",
   "metadata": {},
   "outputs": [],
   "source": [
    "submission = pd.DataFrame({'id': my_ids, 'status_group': rf5.predict(test_df[X_train.columns])})\n",
    "submission.to_csv('submission.csv', index=False)"
   ]
  },
  {
   "cell_type": "code",
   "execution_count": null,
   "id": "4b83f7af",
   "metadata": {},
   "outputs": [],
   "source": [
    "submission.head()"
   ]
  },
  {
   "cell_type": "code",
   "execution_count": null,
   "id": "43ef42a4",
   "metadata": {},
   "outputs": [],
   "source": [
    "# View feature importance\n",
    "feat_import = pd.DataFrame({'features': X_train.columns, 'importance': rf5.feature_importances_})\n",
    "feat_import.sort_values('importance', ascending=False)"
   ]
  },
  {
   "cell_type": "markdown",
   "id": "eb69b38c",
   "metadata": {},
   "source": [
    "# Interpret"
   ]
  },
  {
   "cell_type": "markdown",
   "id": "3d2a3388",
   "metadata": {},
   "source": [
    "The fifth random forest with the specifications of a max_depth of 20 proved to be the best model for the training set. The \n",
    "accuracy on the training score was left at a 0.931 with the testing score left at 0.811. This showed some overfitting on the \n",
    "the training set, but the overall testing score was the highest from all the models, so I decided that'd be the best model\n",
    "to choose. After applying my best model, the fifth random forest, I added it to the competition website and had an overall score of 0.7525 with my current rank being 4,557 out of 14,106 other competitors. \n"
   ]
  },
  {
   "cell_type": "markdown",
   "id": "2b7f8f41",
   "metadata": {},
   "source": [
    "## Future Work"
   ]
  },
  {
   "cell_type": "markdown",
   "id": "bd4e3375",
   "metadata": {},
   "source": [
    "For future work, I'd be interested in adding more categorical variables and studying how those affect the models. "
   ]
  }
 ],
 "metadata": {
  "kernelspec": {
   "display_name": "Python 3 (ipykernel)",
   "language": "python",
   "name": "python3"
  },
  "language_info": {
   "codemirror_mode": {
    "name": "ipython",
    "version": 3
   },
   "file_extension": ".py",
   "mimetype": "text/x-python",
   "name": "python",
   "nbconvert_exporter": "python",
   "pygments_lexer": "ipython3",
   "version": "3.9.12"
  }
 },
 "nbformat": 4,
 "nbformat_minor": 5
}
